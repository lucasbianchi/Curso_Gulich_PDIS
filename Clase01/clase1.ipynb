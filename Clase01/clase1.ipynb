{
 "cells": [
  {
   "cell_type": "markdown",
   "metadata": {},
   "source": [
    "## Clase 1: Manejo básico de archivos, pandas, imágenes, (no satelitales), arreglos de numpy y listas.\n",
    "\n"
   ]
  },
  {
   "cell_type": "markdown",
   "metadata": {},
   "source": [
    "### Qué es una lista?\n",
    "Una lista es una estructura de datos que permiten almacenar diferentes tipos de elementos (enteros, flotantes, cadenas de texto, listas, etc.) en un mismo objeto y el acceso a cada uno de sus elementos, se puede realizar por medio de su ubicación dentro de la lista, comenzando a contar a partir de cero, por ejemplo:\n"
   ]
  },
  {
   "cell_type": "code",
   "execution_count": 2,
   "metadata": {},
   "outputs": [
    {
     "name": "stdout",
     "output_type": "stream",
     "text": [
      "[1, 'perro', [2, 3], 1.5]\n",
      "\u001b[34m\n",
      "Imprimiendo el tercer elemento de la lista: \u001b[0m [2, 3]\n"
     ]
    }
   ],
   "source": [
    "from termcolor import colored\n",
    "\n",
    "lista = [1, 'perro', [2, 3], 1.5]\n",
    "\n",
    "print(lista)\n",
    "\n",
    "print (colored('\\nImprimiendo el tercer elemento de la lista: ', 'blue'),  lista[2])"
   ]
  },
  {
   "cell_type": "markdown",
   "metadata": {},
   "source": [
    "Las listas son de tipo mutable, esto quiere decir que sus características pueden ser modificadas, lo que permite a las mismas crecer de manera dinámica, ejemplo:"
   ]
  },
  {
   "cell_type": "code",
   "execution_count": 3,
   "metadata": {},
   "outputs": [
    {
     "name": "stdout",
     "output_type": "stream",
     "text": [
      "[1, 'perro', [2, 3], 1.5, 5]\n"
     ]
    }
   ],
   "source": [
    "lista.append(5)\n",
    "print(lista)"
   ]
  },
  {
   "cell_type": "markdown",
   "metadata": {},
   "source": [
    "Esta propiedad de mutabilidad, hace que al realizar modificaciones sobre una lista, las mismas se realicen en todos los elementos que hagan uso de ella"
   ]
  },
  {
   "cell_type": "code",
   "execution_count": 4,
   "metadata": {},
   "outputs": [
    {
     "name": "stdout",
     "output_type": "stream",
     "text": [
      "\u001b[34mLa lista 2 contiene la lista original:\u001b[0m\n",
      "['a', 'b', 'c', [1, 'perro', [2, 3], 1.5, 5]]\n"
     ]
    }
   ],
   "source": [
    "lista2 = ['a', 'b', 'c', lista]\n",
    "print(colored('La lista 2 contiene la lista original:', 'blue'))\n",
    "print(lista2)"
   ]
  },
  {
   "cell_type": "markdown",
   "metadata": {},
   "source": [
    "Al modificar el segunto elemento de la lista original, también se modifica la lista2:"
   ]
  },
  {
   "cell_type": "code",
   "execution_count": 5,
   "metadata": {},
   "outputs": [
    {
     "name": "stdout",
     "output_type": "stream",
     "text": [
      "\u001b[34mlista original modificada:\u001b[0m\n",
      "[1, 'Gato', [2, 3], 1.5, 5]\n",
      "\u001b[34m\n",
      "lista 2:\u001b[0m\n",
      "['a', 'b', 'c', [1, 'Gato', [2, 3], 1.5, 5]]\n"
     ]
    }
   ],
   "source": [
    "lista[1] = 'Gato'\n",
    "print(colored('lista original modificada:', 'blue'))\n",
    "print(lista)\n",
    "print(colored('\\nlista 2:', 'blue'))\n",
    "print(lista2)\n"
   ]
  },
  {
   "cell_type": "markdown",
   "metadata": {},
   "source": [
    "## Librería Numpy\n",
    "Numpy es una librería que se especializa en el manejo objetos de tipo array de n dimensiones. Esta librería utilizada como base en la mayoría de paquetes científicos de Python como por ejemplo Pandas, scikit-learn, además de paquetes de visualización como matplotlib.\n",
    "\n",
    "### Cómo se importa numpy?\n",
    "Para importar una librería en python, normalmente se hace uso de la palabra _import_, es muy común que después de importar la librería se utilice un _alias_ para modificar su nombre, esto se hace por medio de la palabra _as_, por ejemplo, al importar la librería numpy, en la mayoría de la documentación que encontremos vamos a encontrar que se se utiliza el _alias_ _\"np\"_, de esta manera, siempre utilizaremos este _alias_ para invocar las diferentes funciones de esta librería:  \n"
   ]
  },
  {
   "cell_type": "code",
   "execution_count": 1,
   "metadata": {},
   "outputs": [
    {
     "ename": "NameError",
     "evalue": "name 'colored' is not defined",
     "output_type": "error",
     "traceback": [
      "\u001b[0;31m---------------------------------------------------------------------------\u001b[0m",
      "\u001b[0;31mNameError\u001b[0m                                 Traceback (most recent call last)",
      "\u001b[0;32m<ipython-input-1-8bdb71c5aba8>\u001b[0m in \u001b[0;36m<module>\u001b[0;34m\u001b[0m\n\u001b[1;32m      1\u001b[0m \u001b[0;32mimport\u001b[0m \u001b[0mnumpy\u001b[0m \u001b[0;32mas\u001b[0m \u001b[0mnp\u001b[0m\u001b[0;34m\u001b[0m\u001b[0;34m\u001b[0m\u001b[0m\n\u001b[1;32m      2\u001b[0m \u001b[0;34m\u001b[0m\u001b[0m\n\u001b[0;32m----> 3\u001b[0;31m \u001b[0mprint\u001b[0m\u001b[0;34m(\u001b[0m\u001b[0mcolored\u001b[0m\u001b[0;34m(\u001b[0m\u001b[0;34mf'la versión de numpy utilizada es: {np.__version__}'\u001b[0m\u001b[0;34m,\u001b[0m \u001b[0;34m'blue'\u001b[0m\u001b[0;34m)\u001b[0m\u001b[0;34m)\u001b[0m\u001b[0;34m\u001b[0m\u001b[0;34m\u001b[0m\u001b[0m\n\u001b[0m",
      "\u001b[0;31mNameError\u001b[0m: name 'colored' is not defined"
     ]
    }
   ],
   "source": [
    "import numpy as np\n",
    "\n",
    "print(colored(f'la versión de numpy utilizada es: {np.__version__}', 'blue'))"
   ]
  },
  {
   "cell_type": "markdown",
   "metadata": {},
   "source": [
    "### Qué es un Array?\n",
    "Un array es un arreglo de n dimensiones, donde cada elemento contiene valores del mismo tipo (float, int, etc.), por ejemplo:\n"
   ]
  },
  {
   "cell_type": "code",
   "execution_count": 7,
   "metadata": {},
   "outputs": [
    {
     "name": "stdout",
     "output_type": "stream",
     "text": [
      "[1 2 3 4]\n"
     ]
    }
   ],
   "source": [
    "arr1 = np.array([1, 2, 3, 4])\n",
    "print(arr1)\n"
   ]
  },
  {
   "cell_type": "markdown",
   "metadata": {},
   "source": [
    "A diferencia de las listas, estos array no son mutables, por lo que cada que modificamos uno, se borra el anterior y se crea uno nuevo:"
   ]
  },
  {
   "cell_type": "code",
   "execution_count": 8,
   "metadata": {},
   "outputs": [
    {
     "name": "stdout",
     "output_type": "stream",
     "text": [
      "\u001b[34mEl array 2 contiene el array original (arr1):\u001b[0m\n",
      "[[ 1  2  3  4]\n",
      " [ 5  6  7  8]\n",
      " [ 9 10 11 12]\n",
      " [13 14 15 16]]\n",
      "\u001b[34m\n",
      "Array original modificado:\u001b[0m\n",
      "[ 1  2 50  4]\n",
      "\u001b[34m\n",
      "El Array 2 mantiene sus valores iniciales:\u001b[0m\n",
      "[[ 1  2  3  4]\n",
      " [ 5  6  7  8]\n",
      " [ 9 10 11 12]\n",
      " [13 14 15 16]]\n"
     ]
    }
   ],
   "source": [
    "arr2 = np.array([arr1, [5, 6, 7, 8], [9, 10, 11, 12], [13, 14, 15, 16]])\n",
    "print(colored('El array 2 contiene el array original (arr1):', 'blue'))\n",
    "print(arr2)\n",
    "\n",
    "arr1[2] = 50\n",
    "print(colored('\\nArray original modificado:', 'blue'))\n",
    "print(arr1)\n",
    "print(colored('\\nEl Array 2 mantiene sus valores iniciales:', 'blue'))\n",
    "print(arr2)\n"
   ]
  },
  {
   "cell_type": "markdown",
   "metadata": {},
   "source": [
    "## Acceso a los datos de un array\n",
    "\n",
    "![Alt Text](images/homer.gif)"
   ]
  },
  {
   "cell_type": "markdown",
   "metadata": {},
   "source": [
    "Veamos qué pasa si tenemos diferentes tipos de datos en un array:"
   ]
  },
  {
   "cell_type": "code",
   "execution_count": 9,
   "metadata": {},
   "outputs": [
    {
     "name": "stdout",
     "output_type": "stream",
     "text": [
      "['1' 'a' '3.0']\n",
      "\u001b[34mEl array 3 es de tipo <U21\u001b[0m\n"
     ]
    }
   ],
   "source": [
    "arr3 = np.array([1, 'a', 3.])\n",
    "\n",
    "print(arr3)\n",
    "print(colored(f'El array 3 es de tipo {arr3.dtype}', 'blue'))\n"
   ]
  },
  {
   "cell_type": "markdown",
   "metadata": {},
   "source": [
    "Para más información acerca de los formatos de datos que maneja numpy consultar el siguiente [enlace](https://numpy.org/doc/stable/reference/arrays.dtypes.html#)."
   ]
  },
  {
   "cell_type": "markdown",
   "metadata": {},
   "source": [
    "## Librería Pandas\n",
    "\n",
    "Pandas es un paquete de python construido sobre la librería Numpy, "
   ]
  },
  {
   "cell_type": "code",
   "execution_count": null,
   "metadata": {},
   "outputs": [],
   "source": []
  },
  {
   "cell_type": "markdown",
   "metadata": {},
   "source": [
    "### Estructuras que maneja Pandas\n",
    "Pandas cuenta con dos estructuras principales que son:\n",
    "#### Series:\n",
    "Es la estructura principal de la librería Pandas, equivalente a arrays en una sola dimensión, pero con la posibilidad de utilizar etiquetas para su indexación. Esta estructura se puede construir a partir de listas, arrays de numpy en una sola dimensión, diccionarios o tuplas, ejemplos:"
   ]
  },
  {
   "cell_type": "code",
   "execution_count": 10,
   "metadata": {},
   "outputs": [
    {
     "name": "stdout",
     "output_type": "stream",
     "text": [
      "<class 'numpy.ndarray'>\n",
      "[ 1  2 50  4]\n",
      "\u001b[34m\n",
      "Pandas Series creado a partir de un array de numpy:\u001b[0m\n",
      "0     1\n",
      "1     2\n",
      "2    50\n",
      "3     4\n",
      "dtype: int64\n"
     ]
    }
   ],
   "source": [
    "import pandas as pd\n",
    "\n",
    "#Recordemos el array creado anteriormente\n",
    "print(type(arr1))\n",
    "print(arr1)\n",
    "\n",
    "seriesNumpy = pd.Series(arr1)\n",
    "print(colored(f'\\nPandas Series creado a partir de un array de numpy:', 'blue'))\n",
    "print(seriesNumpy)"
   ]
  },
  {
   "cell_type": "code",
   "execution_count": 11,
   "metadata": {},
   "outputs": [
    {
     "name": "stdout",
     "output_type": "stream",
     "text": [
      "\u001b[34m\n",
      "Pandas Series creado a partir de una lista:\u001b[0m\n",
      "0    1\n",
      "1    2\n",
      "2    3\n",
      "3    4\n",
      "4    5\n",
      "dtype: int64\n"
     ]
    }
   ],
   "source": [
    "lista3 = [1, 2, 3, 4, 5]\n",
    "seriesLista = pd.Series(lista3)\n",
    "print(colored(f'\\nPandas Series creado a partir de una lista:', 'blue'))\n",
    "print(seriesLista)"
   ]
  },
  {
   "cell_type": "code",
   "execution_count": 12,
   "metadata": {},
   "outputs": [
    {
     "name": "stdout",
     "output_type": "stream",
     "text": [
      "\u001b[34m\n",
      "Pandas Series creado a partir de un diccionario:\u001b[0m\n",
      "a    1\n",
      "b    2\n",
      "c    3\n",
      "dtype: int64\n"
     ]
    }
   ],
   "source": [
    "diccionario = {'a': 1, 'b': 2, 'c':3}\n",
    "seriesDic = pd.Series(data=diccionario, index=['a', 'b', 'c'])\n",
    "print(colored(f'\\nPandas Series creado a partir de un diccionario:', 'blue'))\n",
    "print(seriesDic)"
   ]
  },
  {
   "cell_type": "markdown",
   "metadata": {},
   "source": [
    "Para más información acerca de Pandas Series consultar en el siguiente [enlace](https://pandas.pydata.org/docs/reference/api/pandas.Series.html#pandas.Series)"
   ]
  },
  {
   "cell_type": "markdown",
   "metadata": {},
   "source": [
    "#### DataFrame:\n",
    "Son equivalentes a tablas de datos en dos dimensiones que permite almacenar elementos de diferentes tipos. Al igual que la estructura Series, permite indexar las diferentes filas del _dataframe_ y, adicionalmente, manejar títulos para cada columna. También es posible crear esta estructura a partir de objetos como listas, arrays en dos dimensiones, diccionarios o tuplas, ejemplos:"
   ]
  },
  {
   "cell_type": "code",
   "execution_count": 12,
   "metadata": {},
   "outputs": [
    {
     "name": "stdout",
     "output_type": "stream",
     "text": [
      "\u001b[34m\n",
      "Pandas DataFrame a partir de lista:\u001b[0m\n",
      "   col1  col2\n",
      "0     1     2\n",
      "1     3     4\n",
      "2     5     6\n",
      "\u001b[34m\n",
      "Pandas DataFrame a partir de array:\u001b[0m\n",
      "   col1  col2\n",
      "0     1     2\n",
      "1     3     4\n",
      "2     5     6\n",
      "\u001b[34m\n",
      "Pandas DataFrame a partir de diccionario:\u001b[0m\n",
      "   col1  col2  col3\n",
      "0     1     3     5\n",
      "1     2     4     6\n",
      "\u001b[34m\n",
      "Pandas DataFrame a partir de tupla:\u001b[0m\n",
      "   col1  col2\n",
      "0     1     2\n",
      "1     3     4\n",
      "2     5     6\n"
     ]
    }
   ],
   "source": [
    "lista4 = [[1, 2], [3, 4], [5, 6]] \n",
    "arr4 = np.array(lista4)\n",
    "dic4 = {'col1': [1, 2], 'col2': [3, 4], 'col3': [5, 6]}\n",
    "tupla4 = ((1, 2), (3, 4), (5, 6))\n",
    "\n",
    "dfLista = pd.DataFrame(lista4, columns=['col1', 'col2'])\n",
    "dfArray = pd.DataFrame(arr4, columns=['col1', 'col2'])\n",
    "dfDic = pd.DataFrame(dic4)\n",
    "dfTupla = pd.DataFrame(tupla4, columns=['col1', 'col2'])\n",
    "\n",
    "print(colored('\\nPandas DataFrame a partir de lista:', 'blue'))\n",
    "print(dfLista)\n",
    "print(colored('\\nPandas DataFrame a partir de array:', 'blue'))\n",
    "print(dfArray)\n",
    "print(colored('\\nPandas DataFrame a partir de diccionario:', 'blue'))\n",
    "print(dfDic)\n",
    "print(colored('\\nPandas DataFrame a partir de tupla:', 'blue'))\n",
    "print(dfTupla)\n"
   ]
  },
  {
   "cell_type": "markdown",
   "metadata": {},
   "source": [
    "También es posible manipular los índices, así como los nombres de las columnas, como vemos a continuación:"
   ]
  },
  {
   "cell_type": "code",
   "execution_count": 13,
   "metadata": {},
   "outputs": [
    {
     "name": "stdout",
     "output_type": "stream",
     "text": [
      "\u001b[34m\n",
      "DataFrame original:\u001b[0m\n",
      "   0  1\n",
      "0  1  2\n",
      "1  3  4\n",
      "2  5  6\n",
      "\u001b[34m\n",
      "DataFrame modificado:\u001b[0m\n",
      "   col1  col2\n",
      "A     1     2\n",
      "B     3     4\n",
      "C     5     6\n",
      "\u001b[34m\n",
      "Utilizando una columna como índice:\u001b[0m\n",
      "      col2\n",
      "col1      \n",
      "1        2\n",
      "3        4\n",
      "5        6\n"
     ]
    }
   ],
   "source": [
    "dfLista = pd.DataFrame(lista4)\n",
    "print(colored('\\nDataFrame original:', 'blue'))\n",
    "print(dfLista)\n",
    "\n",
    "# Modificando los índices:\n",
    "dfLista.index = ['A', 'B', 'C']\n",
    "\n",
    "# Modificando los títulos de las columnas:\n",
    "dfLista.columns = ['col1', 'col2']\n",
    "\n",
    "print(colored('\\nDataFrame modificado:', 'blue'))\n",
    "print(dfLista)\n",
    "\n",
    "print(colored('\\nUtilizando una columna como índice:', 'blue'))\n",
    "dfLista = dfLista.set_index('col1')\n",
    "print(dfLista)\n"
   ]
  },
  {
   "cell_type": "markdown",
   "metadata": {},
   "source": [
    "Para más información acerca de Pandas DataFrame consultar el siguiente [enlace](https://pandas.pydata.org/docs/reference/api/pandas.DataFrame.html#pandas.DataFrame)"
   ]
  },
  {
   "cell_type": "markdown",
   "metadata": {},
   "source": [
    "## Lectura de archivos\n",
    "Python permite, mediante su función _open_, leer y guardar diferentes tipos de archivos. Asimismo, las librerías como numpy y pandas tienen funciones propias que pueden adicionalmente ser utilizadas para este fin, siempre que se cuente con una determinada. Normalmente, no podemos manejar la estructura de los archivos de entrada, por ejemplo, los metadatos de las imágenes vienen con estructuras definidas por cada agencia espacial y depende de nosotros generar _scripts_ que nos permitan acceder a ellas haciendo uso de librerías básicas.\n",
    "Veamos por ejemplo el caso de los metadatos de una imagen Landsat 8, suministrado en la carpeta de datos del curso: "
   ]
  },
  {
   "cell_type": "code",
   "execution_count": 21,
   "metadata": {
    "scrolled": true
   },
   "outputs": [
    {
     "name": "stdout",
     "output_type": "stream",
     "text": [
      "['GROUP = L1_METADATA_FILE\\n', '  GROUP = METADATA_FILE_INFO\\n', '    ORIGIN = \"Image courtesy of the U.S. Geological Survey\"\\n', '    REQUEST_ID = \"0502003141438_00016\"\\n', '    LANDSAT_SCENE_ID = \"LC82260842020073LGN00\"\\n', '    LANDSAT_PRODUCT_ID = \"LC08_L1TP_226084_20200313_20200314_01_RT\"\\n', '    COLLECTION_NUMBER = 01\\n', '    FILE_DATE = 2020-03-14T21:41:13Z\\n', '    STATION_ID = \"LGN\"\\n', '    PROCESSING_SOFTWARE_VERSION = \"LPGS_13.1.0\"\\n', '  END_GROUP = METADATA_FILE_INFO\\n', '  GROUP = PRODUCT_METADATA\\n', '    DATA_TYPE = \"L1TP\"\\n', '    COLLECTION_CATEGORY = \"RT\"\\n', '    ELEVATION_SOURCE = \"GLS2000\"\\n', '    OUTPUT_FORMAT = \"GEOTIFF\"\\n', '    SPACECRAFT_ID = \"LANDSAT_8\"\\n', '    SENSOR_ID = \"OLI_TIRS\"\\n', '    WRS_PATH = 226\\n', '    WRS_ROW = 84\\n', '    NADIR_OFFNADIR = \"NADIR\"\\n', '    TARGET_WRS_PATH = 226\\n', '    TARGET_WRS_ROW = 84\\n', '    DATE_ACQUIRED = 2020-03-13\\n', '    SCENE_CENTER_TIME = \"13:50:41.0900869Z\"\\n', '    CORNER_UL_LAT_PRODUCT = -33.56016\\n', '    CORNER_UL_LON_PRODUCT = -61.57366\\n', '    CORNER_UR_LAT_PRODUCT = -33.50460\\n', '    CORNER_UR_LON_PRODUCT = -59.02733\\n', '    CORNER_LL_LAT_PRODUCT = -35.71026\\n', '    CORNER_LL_LON_PRODUCT = -61.53636\\n', '    CORNER_LR_LAT_PRODUCT = -35.65010\\n', '    CORNER_LR_LON_PRODUCT = -58.92374\\n', '    CORNER_UL_PROJECTION_X_PRODUCT = 632400.000\\n', '    CORNER_UL_PROJECTION_Y_PRODUCT = -3714300.000\\n', '    CORNER_UR_PROJECTION_X_PRODUCT = 869100.000\\n', '    CORNER_UR_PROJECTION_Y_PRODUCT = -3714300.000\\n', '    CORNER_LL_PROJECTION_X_PRODUCT = 632400.000\\n', '    CORNER_LL_PROJECTION_Y_PRODUCT = -3952800.000\\n', '    CORNER_LR_PROJECTION_X_PRODUCT = 869100.000\\n', '    CORNER_LR_PROJECTION_Y_PRODUCT = -3952800.000\\n', '    PANCHROMATIC_LINES = 15901\\n', '    PANCHROMATIC_SAMPLES = 15781\\n', '    REFLECTIVE_LINES = 7951\\n', '    REFLECTIVE_SAMPLES = 7891\\n', '    THERMAL_LINES = 7951\\n', '    THERMAL_SAMPLES = 7891\\n', '    FILE_NAME_BAND_1 = \"LC08_L1TP_226084_20200313_20200314_01_RT_B1.TIF\"\\n', '    FILE_NAME_BAND_2 = \"LC08_L1TP_226084_20200313_20200314_01_RT_B2.TIF\"\\n', '    FILE_NAME_BAND_3 = \"LC08_L1TP_226084_20200313_20200314_01_RT_B3.TIF\"\\n', '    FILE_NAME_BAND_4 = \"LC08_L1TP_226084_20200313_20200314_01_RT_B4.TIF\"\\n', '    FILE_NAME_BAND_5 = \"LC08_L1TP_226084_20200313_20200314_01_RT_B5.TIF\"\\n', '    FILE_NAME_BAND_6 = \"LC08_L1TP_226084_20200313_20200314_01_RT_B6.TIF\"\\n', '    FILE_NAME_BAND_7 = \"LC08_L1TP_226084_20200313_20200314_01_RT_B7.TIF\"\\n', '    FILE_NAME_BAND_8 = \"LC08_L1TP_226084_20200313_20200314_01_RT_B8.TIF\"\\n', '    FILE_NAME_BAND_9 = \"LC08_L1TP_226084_20200313_20200314_01_RT_B9.TIF\"\\n', '    FILE_NAME_BAND_10 = \"LC08_L1TP_226084_20200313_20200314_01_RT_B10.TIF\"\\n', '    FILE_NAME_BAND_11 = \"LC08_L1TP_226084_20200313_20200314_01_RT_B11.TIF\"\\n', '    FILE_NAME_BAND_QUALITY = \"LC08_L1TP_226084_20200313_20200314_01_RT_BQA.TIF\"\\n', '    ANGLE_COEFFICIENT_FILE_NAME = \"LC08_L1TP_226084_20200313_20200314_01_RT_ANG.txt\"\\n', '    METADATA_FILE_NAME = \"LC08_L1TP_226084_20200313_20200314_01_RT_MTL.txt\"\\n', '    CPF_NAME = \"LC08CPF_20200101_20200331_01.04\"\\n', '    BPF_NAME_OLI = \"LO8BPF20200313122531_20200313131635.01\"\\n', '    BPF_NAME_TIRS = \"LT8BPF20200310034739_20200310060739.01\"\\n', '    RLUT_FILE_NAME = \"LC08RLUT_20150303_20431231_01_12.h5\"\\n', '  END_GROUP = PRODUCT_METADATA\\n', '  GROUP = IMAGE_ATTRIBUTES\\n', '    CLOUD_COVER = 6.89\\n', '    CLOUD_COVER_LAND = 6.89\\n', '    IMAGE_QUALITY_OLI = 9\\n', '    IMAGE_QUALITY_TIRS = 7\\n', '    TIRS_SSM_MODEL = \"PRELIMINARY\"\\n', '    TIRS_SSM_POSITION_STATUS = \"ESTIMATED\"\\n', '    TIRS_STRAY_LIGHT_CORRECTION_SOURCE = \"TIRS\"\\n', '    ROLL_ANGLE = -0.001\\n', '    SUN_AZIMUTH = 53.19896055\\n', '    SUN_ELEVATION = 44.41644485\\n', '    EARTH_SUN_DISTANCE = 0.9940604\\n', '    SATURATION_BAND_1 = \"Y\"\\n', '    SATURATION_BAND_2 = \"N\"\\n', '    SATURATION_BAND_3 = \"N\"\\n', '    SATURATION_BAND_4 = \"N\"\\n', '    SATURATION_BAND_5 = \"N\"\\n', '    SATURATION_BAND_6 = \"Y\"\\n', '    SATURATION_BAND_7 = \"Y\"\\n', '    SATURATION_BAND_8 = \"N\"\\n', '    SATURATION_BAND_9 = \"N\"\\n', '    GROUND_CONTROL_POINTS_VERSION = 4\\n', '    GROUND_CONTROL_POINTS_MODEL = 169\\n', '    GEOMETRIC_RMSE_MODEL = 9.080\\n', '    GEOMETRIC_RMSE_MODEL_Y = 6.743\\n', '    GEOMETRIC_RMSE_MODEL_X = 6.081\\n', '    GROUND_CONTROL_POINTS_VERIFY = 57\\n', '    GEOMETRIC_RMSE_VERIFY = 5.073\\n', '    TRUNCATION_OLI = \"UPPER\"\\n', '  END_GROUP = IMAGE_ATTRIBUTES\\n', '  GROUP = MIN_MAX_RADIANCE\\n', '    RADIANCE_MAXIMUM_BAND_1 = 769.17267\\n', '    RADIANCE_MINIMUM_BAND_1 = -63.51853\\n', '    RADIANCE_MAXIMUM_BAND_2 = 787.64215\\n', '    RADIANCE_MINIMUM_BAND_2 = -65.04375\\n', '    RADIANCE_MAXIMUM_BAND_3 = 725.80554\\n', '    RADIANCE_MINIMUM_BAND_3 = -59.93726\\n', '    RADIANCE_MAXIMUM_BAND_4 = 612.04010\\n', '    RADIANCE_MINIMUM_BAND_4 = -50.54247\\n', '    RADIANCE_MAXIMUM_BAND_5 = 374.53802\\n', '    RADIANCE_MINIMUM_BAND_5 = -30.92947\\n', '    RADIANCE_MAXIMUM_BAND_6 = 93.14420\\n', '    RADIANCE_MINIMUM_BAND_6 = -7.69188\\n', '    RADIANCE_MAXIMUM_BAND_7 = 31.39458\\n', '    RADIANCE_MINIMUM_BAND_7 = -2.59257\\n', '    RADIANCE_MAXIMUM_BAND_8 = 692.66095\\n', '    RADIANCE_MINIMUM_BAND_8 = -57.20017\\n', '    RADIANCE_MAXIMUM_BAND_9 = 146.37794\\n', '    RADIANCE_MINIMUM_BAND_9 = -12.08794\\n', '    RADIANCE_MAXIMUM_BAND_10 = 22.00180\\n', '    RADIANCE_MINIMUM_BAND_10 = 0.10033\\n', '    RADIANCE_MAXIMUM_BAND_11 = 22.00180\\n', '    RADIANCE_MINIMUM_BAND_11 = 0.10033\\n', '  END_GROUP = MIN_MAX_RADIANCE\\n', '  GROUP = MIN_MAX_REFLECTANCE\\n', '    REFLECTANCE_MAXIMUM_BAND_1 = 1.210700\\n', '    REFLECTANCE_MINIMUM_BAND_1 = -0.099980\\n', '    REFLECTANCE_MAXIMUM_BAND_2 = 1.210700\\n', '    REFLECTANCE_MINIMUM_BAND_2 = -0.099980\\n', '    REFLECTANCE_MAXIMUM_BAND_3 = 1.210700\\n', '    REFLECTANCE_MINIMUM_BAND_3 = -0.099980\\n', '    REFLECTANCE_MAXIMUM_BAND_4 = 1.210700\\n', '    REFLECTANCE_MINIMUM_BAND_4 = -0.099980\\n', '    REFLECTANCE_MAXIMUM_BAND_5 = 1.210700\\n', '    REFLECTANCE_MINIMUM_BAND_5 = -0.099980\\n', '    REFLECTANCE_MAXIMUM_BAND_6 = 1.210700\\n', '    REFLECTANCE_MINIMUM_BAND_6 = -0.099980\\n', '    REFLECTANCE_MAXIMUM_BAND_7 = 1.210700\\n', '    REFLECTANCE_MINIMUM_BAND_7 = -0.099980\\n', '    REFLECTANCE_MAXIMUM_BAND_8 = 1.210700\\n', '    REFLECTANCE_MINIMUM_BAND_8 = -0.099980\\n', '    REFLECTANCE_MAXIMUM_BAND_9 = 1.210700\\n', '    REFLECTANCE_MINIMUM_BAND_9 = -0.099980\\n', '  END_GROUP = MIN_MAX_REFLECTANCE\\n', '  GROUP = MIN_MAX_PIXEL_VALUE\\n', '    QUANTIZE_CAL_MAX_BAND_1 = 65535\\n', '    QUANTIZE_CAL_MIN_BAND_1 = 1\\n', '    QUANTIZE_CAL_MAX_BAND_2 = 65535\\n', '    QUANTIZE_CAL_MIN_BAND_2 = 1\\n', '    QUANTIZE_CAL_MAX_BAND_3 = 65535\\n', '    QUANTIZE_CAL_MIN_BAND_3 = 1\\n', '    QUANTIZE_CAL_MAX_BAND_4 = 65535\\n', '    QUANTIZE_CAL_MIN_BAND_4 = 1\\n', '    QUANTIZE_CAL_MAX_BAND_5 = 65535\\n', '    QUANTIZE_CAL_MIN_BAND_5 = 1\\n', '    QUANTIZE_CAL_MAX_BAND_6 = 65535\\n', '    QUANTIZE_CAL_MIN_BAND_6 = 1\\n', '    QUANTIZE_CAL_MAX_BAND_7 = 65535\\n', '    QUANTIZE_CAL_MIN_BAND_7 = 1\\n', '    QUANTIZE_CAL_MAX_BAND_8 = 65535\\n', '    QUANTIZE_CAL_MIN_BAND_8 = 1\\n', '    QUANTIZE_CAL_MAX_BAND_9 = 65535\\n', '    QUANTIZE_CAL_MIN_BAND_9 = 1\\n', '    QUANTIZE_CAL_MAX_BAND_10 = 65535\\n', '    QUANTIZE_CAL_MIN_BAND_10 = 1\\n', '    QUANTIZE_CAL_MAX_BAND_11 = 65535\\n', '    QUANTIZE_CAL_MIN_BAND_11 = 1\\n', '  END_GROUP = MIN_MAX_PIXEL_VALUE\\n', '  GROUP = RADIOMETRIC_RESCALING\\n', '    RADIANCE_MULT_BAND_1 = 1.2706E-02\\n', '    RADIANCE_MULT_BAND_2 = 1.3011E-02\\n', '    RADIANCE_MULT_BAND_3 = 1.1990E-02\\n', '    RADIANCE_MULT_BAND_4 = 1.0111E-02\\n', '    RADIANCE_MULT_BAND_5 = 6.1871E-03\\n', '    RADIANCE_MULT_BAND_6 = 1.5387E-03\\n', '    RADIANCE_MULT_BAND_7 = 5.1862E-04\\n', '    RADIANCE_MULT_BAND_8 = 1.1442E-02\\n', '    RADIANCE_MULT_BAND_9 = 2.4181E-03\\n', '    RADIANCE_MULT_BAND_10 = 3.3420E-04\\n', '    RADIANCE_MULT_BAND_11 = 3.3420E-04\\n', '    RADIANCE_ADD_BAND_1 = -63.53123\\n', '    RADIANCE_ADD_BAND_2 = -65.05676\\n', '    RADIANCE_ADD_BAND_3 = -59.94925\\n', '    RADIANCE_ADD_BAND_4 = -50.55258\\n', '    RADIANCE_ADD_BAND_5 = -30.93566\\n', '    RADIANCE_ADD_BAND_6 = -7.69342\\n', '    RADIANCE_ADD_BAND_7 = -2.59309\\n', '    RADIANCE_ADD_BAND_8 = -57.21161\\n', '    RADIANCE_ADD_BAND_9 = -12.09036\\n', '    RADIANCE_ADD_BAND_10 = 0.10000\\n', '    RADIANCE_ADD_BAND_11 = 0.10000\\n', '    REFLECTANCE_MULT_BAND_1 = 2.0000E-05\\n', '    REFLECTANCE_MULT_BAND_2 = 2.0000E-05\\n', '    REFLECTANCE_MULT_BAND_3 = 2.0000E-05\\n', '    REFLECTANCE_MULT_BAND_4 = 2.0000E-05\\n', '    REFLECTANCE_MULT_BAND_5 = 2.0000E-05\\n', '    REFLECTANCE_MULT_BAND_6 = 2.0000E-05\\n', '    REFLECTANCE_MULT_BAND_7 = 2.0000E-05\\n', '    REFLECTANCE_MULT_BAND_8 = 2.0000E-05\\n', '    REFLECTANCE_MULT_BAND_9 = 2.0000E-05\\n', '    REFLECTANCE_ADD_BAND_1 = -0.100000\\n', '    REFLECTANCE_ADD_BAND_2 = -0.100000\\n', '    REFLECTANCE_ADD_BAND_3 = -0.100000\\n', '    REFLECTANCE_ADD_BAND_4 = -0.100000\\n', '    REFLECTANCE_ADD_BAND_5 = -0.100000\\n', '    REFLECTANCE_ADD_BAND_6 = -0.100000\\n', '    REFLECTANCE_ADD_BAND_7 = -0.100000\\n', '    REFLECTANCE_ADD_BAND_8 = -0.100000\\n', '    REFLECTANCE_ADD_BAND_9 = -0.100000\\n', '  END_GROUP = RADIOMETRIC_RESCALING\\n', '  GROUP = TIRS_THERMAL_CONSTANTS\\n', '    K1_CONSTANT_BAND_10 = 774.8853\\n', '    K2_CONSTANT_BAND_10 = 1321.0789\\n', '    K1_CONSTANT_BAND_11 = 480.8883\\n', '    K2_CONSTANT_BAND_11 = 1201.1442\\n', '  END_GROUP = TIRS_THERMAL_CONSTANTS\\n', '  GROUP = PROJECTION_PARAMETERS\\n', '    MAP_PROJECTION = \"UTM\"\\n', '    DATUM = \"WGS84\"\\n', '    ELLIPSOID = \"WGS84\"\\n', '    UTM_ZONE = 20\\n', '    GRID_CELL_SIZE_PANCHROMATIC = 15.00\\n', '    GRID_CELL_SIZE_REFLECTIVE = 30.00\\n', '    GRID_CELL_SIZE_THERMAL = 30.00\\n', '    ORIENTATION = \"NORTH_UP\"\\n', '    RESAMPLING_OPTION = \"CUBIC_CONVOLUTION\"\\n', '  END_GROUP = PROJECTION_PARAMETERS\\n', 'END_GROUP = L1_METADATA_FILE\\n', 'END\\n']\n"
     ]
    }
   ],
   "source": [
    "archivo = 'LC08_L1TP_226084_20200313_20200314_01_RT_MTL.txt'\n",
    "archi = open(archivo, 'r')\n",
    "archi = archi.readlines()\n",
    "print(archi)"
   ]
  },
  {
   "cell_type": "markdown",
   "metadata": {},
   "source": [
    "Como vemos, la instrucción anterior carga el archivo y extrae las líneas, almacenando cada una de ellas en una lista. Cada línea tiene una serie de espacios, que no son de nuestro interés, así como con parámetro '\\n' que indica un salto de espacio. Estos elementos no son útiles y pueden generar errores al momento de utilizar los parámetros extraidos, así que vamos a eliminarlos:"
   ]
  },
  {
   "cell_type": "code",
   "execution_count": 22,
   "metadata": {},
   "outputs": [
    {
     "name": "stdout",
     "output_type": "stream",
     "text": [
      "['GROUP = L1_METADATA_FILE', 'GROUP = METADATA_FILE_INFO', 'ORIGIN = \"Image courtesy of the U.S. Geological Survey\"', 'REQUEST_ID = \"0502003141438_00016\"', 'LANDSAT_SCENE_ID = \"LC82260842020073LGN00\"', 'LANDSAT_PRODUCT_ID = \"LC08_L1TP_226084_20200313_20200314_01_RT\"', 'COLLECTION_NUMBER = 01', 'FILE_DATE = 2020-03-14T21:41:13Z', 'STATION_ID = \"LGN\"', 'PROCESSING_SOFTWARE_VERSION = \"LPGS_13.1.0\"', 'END_GROUP = METADATA_FILE_INFO', 'GROUP = PRODUCT_METADATA', 'DATA_TYPE = \"L1TP\"', 'COLLECTION_CATEGORY = \"RT\"', 'ELEVATION_SOURCE = \"GLS2000\"', 'OUTPUT_FORMAT = \"GEOTIFF\"', 'SPACECRAFT_ID = \"LANDSAT_8\"', 'SENSOR_ID = \"OLI_TIRS\"', 'WRS_PATH = 226', 'WRS_ROW = 84', 'NADIR_OFFNADIR = \"NADIR\"', 'TARGET_WRS_PATH = 226', 'TARGET_WRS_ROW = 84', 'DATE_ACQUIRED = 2020-03-13', 'SCENE_CENTER_TIME = \"13:50:41.0900869Z\"', 'CORNER_UL_LAT_PRODUCT = -33.56016', 'CORNER_UL_LON_PRODUCT = -61.57366', 'CORNER_UR_LAT_PRODUCT = -33.50460', 'CORNER_UR_LON_PRODUCT = -59.02733', 'CORNER_LL_LAT_PRODUCT = -35.71026', 'CORNER_LL_LON_PRODUCT = -61.53636', 'CORNER_LR_LAT_PRODUCT = -35.65010', 'CORNER_LR_LON_PRODUCT = -58.92374', 'CORNER_UL_PROJECTION_X_PRODUCT = 632400.000', 'CORNER_UL_PROJECTION_Y_PRODUCT = -3714300.000', 'CORNER_UR_PROJECTION_X_PRODUCT = 869100.000', 'CORNER_UR_PROJECTION_Y_PRODUCT = -3714300.000', 'CORNER_LL_PROJECTION_X_PRODUCT = 632400.000', 'CORNER_LL_PROJECTION_Y_PRODUCT = -3952800.000', 'CORNER_LR_PROJECTION_X_PRODUCT = 869100.000', 'CORNER_LR_PROJECTION_Y_PRODUCT = -3952800.000', 'PANCHROMATIC_LINES = 15901', 'PANCHROMATIC_SAMPLES = 15781', 'REFLECTIVE_LINES = 7951', 'REFLECTIVE_SAMPLES = 7891', 'THERMAL_LINES = 7951', 'THERMAL_SAMPLES = 7891', 'FILE_NAME_BAND_1 = \"LC08_L1TP_226084_20200313_20200314_01_RT_B1.TIF\"', 'FILE_NAME_BAND_2 = \"LC08_L1TP_226084_20200313_20200314_01_RT_B2.TIF\"', 'FILE_NAME_BAND_3 = \"LC08_L1TP_226084_20200313_20200314_01_RT_B3.TIF\"', 'FILE_NAME_BAND_4 = \"LC08_L1TP_226084_20200313_20200314_01_RT_B4.TIF\"', 'FILE_NAME_BAND_5 = \"LC08_L1TP_226084_20200313_20200314_01_RT_B5.TIF\"', 'FILE_NAME_BAND_6 = \"LC08_L1TP_226084_20200313_20200314_01_RT_B6.TIF\"', 'FILE_NAME_BAND_7 = \"LC08_L1TP_226084_20200313_20200314_01_RT_B7.TIF\"', 'FILE_NAME_BAND_8 = \"LC08_L1TP_226084_20200313_20200314_01_RT_B8.TIF\"', 'FILE_NAME_BAND_9 = \"LC08_L1TP_226084_20200313_20200314_01_RT_B9.TIF\"', 'FILE_NAME_BAND_10 = \"LC08_L1TP_226084_20200313_20200314_01_RT_B10.TIF\"', 'FILE_NAME_BAND_11 = \"LC08_L1TP_226084_20200313_20200314_01_RT_B11.TIF\"', 'FILE_NAME_BAND_QUALITY = \"LC08_L1TP_226084_20200313_20200314_01_RT_BQA.TIF\"', 'ANGLE_COEFFICIENT_FILE_NAME = \"LC08_L1TP_226084_20200313_20200314_01_RT_ANG.txt\"', 'METADATA_FILE_NAME = \"LC08_L1TP_226084_20200313_20200314_01_RT_MTL.txt\"', 'CPF_NAME = \"LC08CPF_20200101_20200331_01.04\"', 'BPF_NAME_OLI = \"LO8BPF20200313122531_20200313131635.01\"', 'BPF_NAME_TIRS = \"LT8BPF20200310034739_20200310060739.01\"', 'RLUT_FILE_NAME = \"LC08RLUT_20150303_20431231_01_12.h5\"', 'END_GROUP = PRODUCT_METADATA', 'GROUP = IMAGE_ATTRIBUTES', 'CLOUD_COVER = 6.89', 'CLOUD_COVER_LAND = 6.89', 'IMAGE_QUALITY_OLI = 9', 'IMAGE_QUALITY_TIRS = 7', 'TIRS_SSM_MODEL = \"PRELIMINARY\"', 'TIRS_SSM_POSITION_STATUS = \"ESTIMATED\"', 'TIRS_STRAY_LIGHT_CORRECTION_SOURCE = \"TIRS\"', 'ROLL_ANGLE = -0.001', 'SUN_AZIMUTH = 53.19896055', 'SUN_ELEVATION = 44.41644485', 'EARTH_SUN_DISTANCE = 0.9940604', 'SATURATION_BAND_1 = \"Y\"', 'SATURATION_BAND_2 = \"N\"', 'SATURATION_BAND_3 = \"N\"', 'SATURATION_BAND_4 = \"N\"', 'SATURATION_BAND_5 = \"N\"', 'SATURATION_BAND_6 = \"Y\"', 'SATURATION_BAND_7 = \"Y\"', 'SATURATION_BAND_8 = \"N\"', 'SATURATION_BAND_9 = \"N\"', 'GROUND_CONTROL_POINTS_VERSION = 4', 'GROUND_CONTROL_POINTS_MODEL = 169', 'GEOMETRIC_RMSE_MODEL = 9.080', 'GEOMETRIC_RMSE_MODEL_Y = 6.743', 'GEOMETRIC_RMSE_MODEL_X = 6.081', 'GROUND_CONTROL_POINTS_VERIFY = 57', 'GEOMETRIC_RMSE_VERIFY = 5.073', 'TRUNCATION_OLI = \"UPPER\"', 'END_GROUP = IMAGE_ATTRIBUTES', 'GROUP = MIN_MAX_RADIANCE', 'RADIANCE_MAXIMUM_BAND_1 = 769.17267', 'RADIANCE_MINIMUM_BAND_1 = -63.51853', 'RADIANCE_MAXIMUM_BAND_2 = 787.64215', 'RADIANCE_MINIMUM_BAND_2 = -65.04375', 'RADIANCE_MAXIMUM_BAND_3 = 725.80554', 'RADIANCE_MINIMUM_BAND_3 = -59.93726', 'RADIANCE_MAXIMUM_BAND_4 = 612.04010', 'RADIANCE_MINIMUM_BAND_4 = -50.54247', 'RADIANCE_MAXIMUM_BAND_5 = 374.53802', 'RADIANCE_MINIMUM_BAND_5 = -30.92947', 'RADIANCE_MAXIMUM_BAND_6 = 93.14420', 'RADIANCE_MINIMUM_BAND_6 = -7.69188', 'RADIANCE_MAXIMUM_BAND_7 = 31.39458', 'RADIANCE_MINIMUM_BAND_7 = -2.59257', 'RADIANCE_MAXIMUM_BAND_8 = 692.66095', 'RADIANCE_MINIMUM_BAND_8 = -57.20017', 'RADIANCE_MAXIMUM_BAND_9 = 146.37794', 'RADIANCE_MINIMUM_BAND_9 = -12.08794', 'RADIANCE_MAXIMUM_BAND_10 = 22.00180', 'RADIANCE_MINIMUM_BAND_10 = 0.10033', 'RADIANCE_MAXIMUM_BAND_11 = 22.00180', 'RADIANCE_MINIMUM_BAND_11 = 0.10033', 'END_GROUP = MIN_MAX_RADIANCE', 'GROUP = MIN_MAX_REFLECTANCE', 'REFLECTANCE_MAXIMUM_BAND_1 = 1.210700', 'REFLECTANCE_MINIMUM_BAND_1 = -0.099980', 'REFLECTANCE_MAXIMUM_BAND_2 = 1.210700', 'REFLECTANCE_MINIMUM_BAND_2 = -0.099980', 'REFLECTANCE_MAXIMUM_BAND_3 = 1.210700', 'REFLECTANCE_MINIMUM_BAND_3 = -0.099980', 'REFLECTANCE_MAXIMUM_BAND_4 = 1.210700', 'REFLECTANCE_MINIMUM_BAND_4 = -0.099980', 'REFLECTANCE_MAXIMUM_BAND_5 = 1.210700', 'REFLECTANCE_MINIMUM_BAND_5 = -0.099980', 'REFLECTANCE_MAXIMUM_BAND_6 = 1.210700', 'REFLECTANCE_MINIMUM_BAND_6 = -0.099980', 'REFLECTANCE_MAXIMUM_BAND_7 = 1.210700', 'REFLECTANCE_MINIMUM_BAND_7 = -0.099980', 'REFLECTANCE_MAXIMUM_BAND_8 = 1.210700', 'REFLECTANCE_MINIMUM_BAND_8 = -0.099980', 'REFLECTANCE_MAXIMUM_BAND_9 = 1.210700', 'REFLECTANCE_MINIMUM_BAND_9 = -0.099980', 'END_GROUP = MIN_MAX_REFLECTANCE', 'GROUP = MIN_MAX_PIXEL_VALUE', 'QUANTIZE_CAL_MAX_BAND_1 = 65535', 'QUANTIZE_CAL_MIN_BAND_1 = 1', 'QUANTIZE_CAL_MAX_BAND_2 = 65535', 'QUANTIZE_CAL_MIN_BAND_2 = 1', 'QUANTIZE_CAL_MAX_BAND_3 = 65535', 'QUANTIZE_CAL_MIN_BAND_3 = 1', 'QUANTIZE_CAL_MAX_BAND_4 = 65535', 'QUANTIZE_CAL_MIN_BAND_4 = 1', 'QUANTIZE_CAL_MAX_BAND_5 = 65535', 'QUANTIZE_CAL_MIN_BAND_5 = 1', 'QUANTIZE_CAL_MAX_BAND_6 = 65535', 'QUANTIZE_CAL_MIN_BAND_6 = 1', 'QUANTIZE_CAL_MAX_BAND_7 = 65535', 'QUANTIZE_CAL_MIN_BAND_7 = 1', 'QUANTIZE_CAL_MAX_BAND_8 = 65535', 'QUANTIZE_CAL_MIN_BAND_8 = 1', 'QUANTIZE_CAL_MAX_BAND_9 = 65535', 'QUANTIZE_CAL_MIN_BAND_9 = 1', 'QUANTIZE_CAL_MAX_BAND_10 = 65535', 'QUANTIZE_CAL_MIN_BAND_10 = 1', 'QUANTIZE_CAL_MAX_BAND_11 = 65535', 'QUANTIZE_CAL_MIN_BAND_11 = 1', 'END_GROUP = MIN_MAX_PIXEL_VALUE', 'GROUP = RADIOMETRIC_RESCALING', 'RADIANCE_MULT_BAND_1 = 1.2706E-02', 'RADIANCE_MULT_BAND_2 = 1.3011E-02', 'RADIANCE_MULT_BAND_3 = 1.1990E-02', 'RADIANCE_MULT_BAND_4 = 1.0111E-02', 'RADIANCE_MULT_BAND_5 = 6.1871E-03', 'RADIANCE_MULT_BAND_6 = 1.5387E-03', 'RADIANCE_MULT_BAND_7 = 5.1862E-04', 'RADIANCE_MULT_BAND_8 = 1.1442E-02', 'RADIANCE_MULT_BAND_9 = 2.4181E-03', 'RADIANCE_MULT_BAND_10 = 3.3420E-04', 'RADIANCE_MULT_BAND_11 = 3.3420E-04', 'RADIANCE_ADD_BAND_1 = -63.53123', 'RADIANCE_ADD_BAND_2 = -65.05676', 'RADIANCE_ADD_BAND_3 = -59.94925', 'RADIANCE_ADD_BAND_4 = -50.55258', 'RADIANCE_ADD_BAND_5 = -30.93566', 'RADIANCE_ADD_BAND_6 = -7.69342', 'RADIANCE_ADD_BAND_7 = -2.59309', 'RADIANCE_ADD_BAND_8 = -57.21161', 'RADIANCE_ADD_BAND_9 = -12.09036', 'RADIANCE_ADD_BAND_10 = 0.10000', 'RADIANCE_ADD_BAND_11 = 0.10000', 'REFLECTANCE_MULT_BAND_1 = 2.0000E-05', 'REFLECTANCE_MULT_BAND_2 = 2.0000E-05', 'REFLECTANCE_MULT_BAND_3 = 2.0000E-05', 'REFLECTANCE_MULT_BAND_4 = 2.0000E-05', 'REFLECTANCE_MULT_BAND_5 = 2.0000E-05', 'REFLECTANCE_MULT_BAND_6 = 2.0000E-05', 'REFLECTANCE_MULT_BAND_7 = 2.0000E-05', 'REFLECTANCE_MULT_BAND_8 = 2.0000E-05', 'REFLECTANCE_MULT_BAND_9 = 2.0000E-05', 'REFLECTANCE_ADD_BAND_1 = -0.100000', 'REFLECTANCE_ADD_BAND_2 = -0.100000', 'REFLECTANCE_ADD_BAND_3 = -0.100000', 'REFLECTANCE_ADD_BAND_4 = -0.100000', 'REFLECTANCE_ADD_BAND_5 = -0.100000', 'REFLECTANCE_ADD_BAND_6 = -0.100000', 'REFLECTANCE_ADD_BAND_7 = -0.100000', 'REFLECTANCE_ADD_BAND_8 = -0.100000', 'REFLECTANCE_ADD_BAND_9 = -0.100000', 'END_GROUP = RADIOMETRIC_RESCALING', 'GROUP = TIRS_THERMAL_CONSTANTS', 'K1_CONSTANT_BAND_10 = 774.8853', 'K2_CONSTANT_BAND_10 = 1321.0789', 'K1_CONSTANT_BAND_11 = 480.8883', 'K2_CONSTANT_BAND_11 = 1201.1442', 'END_GROUP = TIRS_THERMAL_CONSTANTS', 'GROUP = PROJECTION_PARAMETERS', 'MAP_PROJECTION = \"UTM\"', 'DATUM = \"WGS84\"', 'ELLIPSOID = \"WGS84\"', 'UTM_ZONE = 20', 'GRID_CELL_SIZE_PANCHROMATIC = 15.00', 'GRID_CELL_SIZE_REFLECTIVE = 30.00', 'GRID_CELL_SIZE_THERMAL = 30.00', 'ORIENTATION = \"NORTH_UP\"', 'RESAMPLING_OPTION = \"CUBIC_CONVOLUTION\"', 'END_GROUP = PROJECTION_PARAMETERS', 'END_GROUP = L1_METADATA_FILE', 'END']\n"
     ]
    }
   ],
   "source": [
    "for i in range(len(archi)):\n",
    "    archi[i] = archi[i].strip(' \\n') # Eliminamos los espacios\n",
    "\n",
    "print(archi)"
   ]
  },
  {
   "cell_type": "markdown",
   "metadata": {},
   "source": [
    "Si revisamos cada uno de los elementos de la lista, a excepción del último, estos contienen el nombre de una variable seguido por su valor. Esto ya es conocido de cuando trabajamos con diccionarios. A su vez, si revisamos el txt original, veremos que hay grupos de variables. ¿Cómo podemos hacer para separarlos? \n",
    "Vamos a probar con condicionales y, dado que la última línea no es de interés, vamos a dejarla por fuera:"
   ]
  },
  {
   "cell_type": "code",
   "execution_count": 23,
   "metadata": {},
   "outputs": [
    {
     "name": "stdout",
     "output_type": "stream",
     "text": [
      "['GROUP = L1_METADATA_FILE', 'GROUP = METADATA_FILE_INFO', 'ORIGIN = \"Image courtesy of the U.S. Geological Survey\"', 'REQUEST_ID = \"0502003141438_00016\"', 'LANDSAT_SCENE_ID = \"LC82260842020073LGN00\"', 'LANDSAT_PRODUCT_ID = \"LC08_L1TP_226084_20200313_20200314_01_RT\"', 'COLLECTION_NUMBER = 01', 'FILE_DATE = 2020-03-14T21:41:13Z', 'STATION_ID = \"LGN\"', 'PROCESSING_SOFTWARE_VERSION = \"LPGS_13.1.0\"', 'END_GROUP = METADATA_FILE_INFO', 'GROUP = PRODUCT_METADATA', 'DATA_TYPE = \"L1TP\"', 'COLLECTION_CATEGORY = \"RT\"', 'ELEVATION_SOURCE = \"GLS2000\"', 'OUTPUT_FORMAT = \"GEOTIFF\"', 'SPACECRAFT_ID = \"LANDSAT_8\"', 'SENSOR_ID = \"OLI_TIRS\"', 'WRS_PATH = 226', 'WRS_ROW = 84', 'NADIR_OFFNADIR = \"NADIR\"', 'TARGET_WRS_PATH = 226', 'TARGET_WRS_ROW = 84', 'DATE_ACQUIRED = 2020-03-13', 'SCENE_CENTER_TIME = \"13:50:41.0900869Z\"', 'CORNER_UL_LAT_PRODUCT = -33.56016', 'CORNER_UL_LON_PRODUCT = -61.57366', 'CORNER_UR_LAT_PRODUCT = -33.50460', 'CORNER_UR_LON_PRODUCT = -59.02733', 'CORNER_LL_LAT_PRODUCT = -35.71026', 'CORNER_LL_LON_PRODUCT = -61.53636', 'CORNER_LR_LAT_PRODUCT = -35.65010', 'CORNER_LR_LON_PRODUCT = -58.92374', 'CORNER_UL_PROJECTION_X_PRODUCT = 632400.000', 'CORNER_UL_PROJECTION_Y_PRODUCT = -3714300.000', 'CORNER_UR_PROJECTION_X_PRODUCT = 869100.000', 'CORNER_UR_PROJECTION_Y_PRODUCT = -3714300.000', 'CORNER_LL_PROJECTION_X_PRODUCT = 632400.000', 'CORNER_LL_PROJECTION_Y_PRODUCT = -3952800.000', 'CORNER_LR_PROJECTION_X_PRODUCT = 869100.000', 'CORNER_LR_PROJECTION_Y_PRODUCT = -3952800.000', 'PANCHROMATIC_LINES = 15901', 'PANCHROMATIC_SAMPLES = 15781', 'REFLECTIVE_LINES = 7951', 'REFLECTIVE_SAMPLES = 7891', 'THERMAL_LINES = 7951', 'THERMAL_SAMPLES = 7891', 'FILE_NAME_BAND_1 = \"LC08_L1TP_226084_20200313_20200314_01_RT_B1.TIF\"', 'FILE_NAME_BAND_2 = \"LC08_L1TP_226084_20200313_20200314_01_RT_B2.TIF\"', 'FILE_NAME_BAND_3 = \"LC08_L1TP_226084_20200313_20200314_01_RT_B3.TIF\"', 'FILE_NAME_BAND_4 = \"LC08_L1TP_226084_20200313_20200314_01_RT_B4.TIF\"', 'FILE_NAME_BAND_5 = \"LC08_L1TP_226084_20200313_20200314_01_RT_B5.TIF\"', 'FILE_NAME_BAND_6 = \"LC08_L1TP_226084_20200313_20200314_01_RT_B6.TIF\"', 'FILE_NAME_BAND_7 = \"LC08_L1TP_226084_20200313_20200314_01_RT_B7.TIF\"', 'FILE_NAME_BAND_8 = \"LC08_L1TP_226084_20200313_20200314_01_RT_B8.TIF\"', 'FILE_NAME_BAND_9 = \"LC08_L1TP_226084_20200313_20200314_01_RT_B9.TIF\"', 'FILE_NAME_BAND_10 = \"LC08_L1TP_226084_20200313_20200314_01_RT_B10.TIF\"', 'FILE_NAME_BAND_11 = \"LC08_L1TP_226084_20200313_20200314_01_RT_B11.TIF\"', 'FILE_NAME_BAND_QUALITY = \"LC08_L1TP_226084_20200313_20200314_01_RT_BQA.TIF\"', 'ANGLE_COEFFICIENT_FILE_NAME = \"LC08_L1TP_226084_20200313_20200314_01_RT_ANG.txt\"', 'METADATA_FILE_NAME = \"LC08_L1TP_226084_20200313_20200314_01_RT_MTL.txt\"', 'CPF_NAME = \"LC08CPF_20200101_20200331_01.04\"', 'BPF_NAME_OLI = \"LO8BPF20200313122531_20200313131635.01\"', 'BPF_NAME_TIRS = \"LT8BPF20200310034739_20200310060739.01\"', 'RLUT_FILE_NAME = \"LC08RLUT_20150303_20431231_01_12.h5\"', 'END_GROUP = PRODUCT_METADATA', 'GROUP = IMAGE_ATTRIBUTES', 'CLOUD_COVER = 6.89', 'CLOUD_COVER_LAND = 6.89', 'IMAGE_QUALITY_OLI = 9', 'IMAGE_QUALITY_TIRS = 7', 'TIRS_SSM_MODEL = \"PRELIMINARY\"', 'TIRS_SSM_POSITION_STATUS = \"ESTIMATED\"', 'TIRS_STRAY_LIGHT_CORRECTION_SOURCE = \"TIRS\"', 'ROLL_ANGLE = -0.001', 'SUN_AZIMUTH = 53.19896055', 'SUN_ELEVATION = 44.41644485', 'EARTH_SUN_DISTANCE = 0.9940604', 'SATURATION_BAND_1 = \"Y\"', 'SATURATION_BAND_2 = \"N\"', 'SATURATION_BAND_3 = \"N\"', 'SATURATION_BAND_4 = \"N\"', 'SATURATION_BAND_5 = \"N\"', 'SATURATION_BAND_6 = \"Y\"', 'SATURATION_BAND_7 = \"Y\"', 'SATURATION_BAND_8 = \"N\"', 'SATURATION_BAND_9 = \"N\"', 'GROUND_CONTROL_POINTS_VERSION = 4', 'GROUND_CONTROL_POINTS_MODEL = 169', 'GEOMETRIC_RMSE_MODEL = 9.080', 'GEOMETRIC_RMSE_MODEL_Y = 6.743', 'GEOMETRIC_RMSE_MODEL_X = 6.081', 'GROUND_CONTROL_POINTS_VERIFY = 57', 'GEOMETRIC_RMSE_VERIFY = 5.073', 'TRUNCATION_OLI = \"UPPER\"', 'END_GROUP = IMAGE_ATTRIBUTES', 'GROUP = MIN_MAX_RADIANCE', 'RADIANCE_MAXIMUM_BAND_1 = 769.17267', 'RADIANCE_MINIMUM_BAND_1 = -63.51853', 'RADIANCE_MAXIMUM_BAND_2 = 787.64215', 'RADIANCE_MINIMUM_BAND_2 = -65.04375', 'RADIANCE_MAXIMUM_BAND_3 = 725.80554', 'RADIANCE_MINIMUM_BAND_3 = -59.93726', 'RADIANCE_MAXIMUM_BAND_4 = 612.04010', 'RADIANCE_MINIMUM_BAND_4 = -50.54247', 'RADIANCE_MAXIMUM_BAND_5 = 374.53802', 'RADIANCE_MINIMUM_BAND_5 = -30.92947', 'RADIANCE_MAXIMUM_BAND_6 = 93.14420', 'RADIANCE_MINIMUM_BAND_6 = -7.69188', 'RADIANCE_MAXIMUM_BAND_7 = 31.39458', 'RADIANCE_MINIMUM_BAND_7 = -2.59257', 'RADIANCE_MAXIMUM_BAND_8 = 692.66095', 'RADIANCE_MINIMUM_BAND_8 = -57.20017', 'RADIANCE_MAXIMUM_BAND_9 = 146.37794', 'RADIANCE_MINIMUM_BAND_9 = -12.08794', 'RADIANCE_MAXIMUM_BAND_10 = 22.00180', 'RADIANCE_MINIMUM_BAND_10 = 0.10033', 'RADIANCE_MAXIMUM_BAND_11 = 22.00180', 'RADIANCE_MINIMUM_BAND_11 = 0.10033', 'END_GROUP = MIN_MAX_RADIANCE', 'GROUP = MIN_MAX_REFLECTANCE', 'REFLECTANCE_MAXIMUM_BAND_1 = 1.210700', 'REFLECTANCE_MINIMUM_BAND_1 = -0.099980', 'REFLECTANCE_MAXIMUM_BAND_2 = 1.210700', 'REFLECTANCE_MINIMUM_BAND_2 = -0.099980', 'REFLECTANCE_MAXIMUM_BAND_3 = 1.210700', 'REFLECTANCE_MINIMUM_BAND_3 = -0.099980', 'REFLECTANCE_MAXIMUM_BAND_4 = 1.210700', 'REFLECTANCE_MINIMUM_BAND_4 = -0.099980', 'REFLECTANCE_MAXIMUM_BAND_5 = 1.210700', 'REFLECTANCE_MINIMUM_BAND_5 = -0.099980', 'REFLECTANCE_MAXIMUM_BAND_6 = 1.210700', 'REFLECTANCE_MINIMUM_BAND_6 = -0.099980', 'REFLECTANCE_MAXIMUM_BAND_7 = 1.210700', 'REFLECTANCE_MINIMUM_BAND_7 = -0.099980', 'REFLECTANCE_MAXIMUM_BAND_8 = 1.210700', 'REFLECTANCE_MINIMUM_BAND_8 = -0.099980', 'REFLECTANCE_MAXIMUM_BAND_9 = 1.210700', 'REFLECTANCE_MINIMUM_BAND_9 = -0.099980', 'END_GROUP = MIN_MAX_REFLECTANCE', 'GROUP = MIN_MAX_PIXEL_VALUE', 'QUANTIZE_CAL_MAX_BAND_1 = 65535', 'QUANTIZE_CAL_MIN_BAND_1 = 1', 'QUANTIZE_CAL_MAX_BAND_2 = 65535', 'QUANTIZE_CAL_MIN_BAND_2 = 1', 'QUANTIZE_CAL_MAX_BAND_3 = 65535', 'QUANTIZE_CAL_MIN_BAND_3 = 1', 'QUANTIZE_CAL_MAX_BAND_4 = 65535', 'QUANTIZE_CAL_MIN_BAND_4 = 1', 'QUANTIZE_CAL_MAX_BAND_5 = 65535', 'QUANTIZE_CAL_MIN_BAND_5 = 1', 'QUANTIZE_CAL_MAX_BAND_6 = 65535', 'QUANTIZE_CAL_MIN_BAND_6 = 1', 'QUANTIZE_CAL_MAX_BAND_7 = 65535', 'QUANTIZE_CAL_MIN_BAND_7 = 1', 'QUANTIZE_CAL_MAX_BAND_8 = 65535', 'QUANTIZE_CAL_MIN_BAND_8 = 1', 'QUANTIZE_CAL_MAX_BAND_9 = 65535', 'QUANTIZE_CAL_MIN_BAND_9 = 1', 'QUANTIZE_CAL_MAX_BAND_10 = 65535', 'QUANTIZE_CAL_MIN_BAND_10 = 1', 'QUANTIZE_CAL_MAX_BAND_11 = 65535', 'QUANTIZE_CAL_MIN_BAND_11 = 1', 'END_GROUP = MIN_MAX_PIXEL_VALUE', 'GROUP = RADIOMETRIC_RESCALING', 'RADIANCE_MULT_BAND_1 = 1.2706E-02', 'RADIANCE_MULT_BAND_2 = 1.3011E-02', 'RADIANCE_MULT_BAND_3 = 1.1990E-02', 'RADIANCE_MULT_BAND_4 = 1.0111E-02', 'RADIANCE_MULT_BAND_5 = 6.1871E-03', 'RADIANCE_MULT_BAND_6 = 1.5387E-03', 'RADIANCE_MULT_BAND_7 = 5.1862E-04', 'RADIANCE_MULT_BAND_8 = 1.1442E-02', 'RADIANCE_MULT_BAND_9 = 2.4181E-03', 'RADIANCE_MULT_BAND_10 = 3.3420E-04', 'RADIANCE_MULT_BAND_11 = 3.3420E-04', 'RADIANCE_ADD_BAND_1 = -63.53123', 'RADIANCE_ADD_BAND_2 = -65.05676', 'RADIANCE_ADD_BAND_3 = -59.94925', 'RADIANCE_ADD_BAND_4 = -50.55258', 'RADIANCE_ADD_BAND_5 = -30.93566', 'RADIANCE_ADD_BAND_6 = -7.69342', 'RADIANCE_ADD_BAND_7 = -2.59309', 'RADIANCE_ADD_BAND_8 = -57.21161', 'RADIANCE_ADD_BAND_9 = -12.09036', 'RADIANCE_ADD_BAND_10 = 0.10000', 'RADIANCE_ADD_BAND_11 = 0.10000', 'REFLECTANCE_MULT_BAND_1 = 2.0000E-05', 'REFLECTANCE_MULT_BAND_2 = 2.0000E-05', 'REFLECTANCE_MULT_BAND_3 = 2.0000E-05', 'REFLECTANCE_MULT_BAND_4 = 2.0000E-05', 'REFLECTANCE_MULT_BAND_5 = 2.0000E-05', 'REFLECTANCE_MULT_BAND_6 = 2.0000E-05', 'REFLECTANCE_MULT_BAND_7 = 2.0000E-05', 'REFLECTANCE_MULT_BAND_8 = 2.0000E-05', 'REFLECTANCE_MULT_BAND_9 = 2.0000E-05', 'REFLECTANCE_ADD_BAND_1 = -0.100000', 'REFLECTANCE_ADD_BAND_2 = -0.100000', 'REFLECTANCE_ADD_BAND_3 = -0.100000', 'REFLECTANCE_ADD_BAND_4 = -0.100000', 'REFLECTANCE_ADD_BAND_5 = -0.100000', 'REFLECTANCE_ADD_BAND_6 = -0.100000', 'REFLECTANCE_ADD_BAND_7 = -0.100000', 'REFLECTANCE_ADD_BAND_8 = -0.100000', 'REFLECTANCE_ADD_BAND_9 = -0.100000', 'END_GROUP = RADIOMETRIC_RESCALING', 'GROUP = TIRS_THERMAL_CONSTANTS', 'K1_CONSTANT_BAND_10 = 774.8853', 'K2_CONSTANT_BAND_10 = 1321.0789', 'K1_CONSTANT_BAND_11 = 480.8883', 'K2_CONSTANT_BAND_11 = 1201.1442', 'END_GROUP = TIRS_THERMAL_CONSTANTS', 'GROUP = PROJECTION_PARAMETERS', 'MAP_PROJECTION = \"UTM\"', 'DATUM = \"WGS84\"', 'ELLIPSOID = \"WGS84\"', 'UTM_ZONE = 20', 'GRID_CELL_SIZE_PANCHROMATIC = 15.00', 'GRID_CELL_SIZE_REFLECTIVE = 30.00', 'GRID_CELL_SIZE_THERMAL = 30.00', 'ORIENTATION = \"NORTH_UP\"', 'RESAMPLING_OPTION = \"CUBIC_CONVOLUTION\"', 'END_GROUP = PROJECTION_PARAMETERS', 'END_GROUP = L1_METADATA_FILE']\n"
     ]
    }
   ],
   "source": [
    "archi = archi[:-1]\n",
    "print(archi)"
   ]
  },
  {
   "cell_type": "markdown",
   "metadata": {},
   "source": [
    "Bien, ahora tenemos únicamente lo que nos interesa. Si revisamos nuevamente, vemos que tenemos un grupo que engloba todos nuestros datos y en este, tenemos subgrupos donde cada subgrupo tiene un comienzo indicado por la palabra _GROUP_ y un final, indicado por la palabra _END_. Teniendo en cuenta esto, vamos entonces a construir nuestro diccionario:"
   ]
  },
  {
   "cell_type": "code",
   "execution_count": 62,
   "metadata": {},
   "outputs": [
    {
     "name": "stdout",
     "output_type": "stream",
     "text": [
      "{'L1_METADATA_FILE': {'METADATA_FILE_INFO': {'ORIGIN': 'Image courtesy of the U.S. Geological Survey', 'REQUEST_ID': '0502003141438_00016', 'LANDSAT_SCENE_ID': 'LC82260842020073LGN00', 'LANDSAT_PRODUCT_ID': 'LC08_L1TP_226084_20200313_20200314_01_RT', 'COLLECTION_NUMBER': '01', 'FILE_DATE': '2020-03-14T21:41:13Z', 'STATION_ID': 'LGN', 'PROCESSING_SOFTWARE_VERSION': 'LPGS_13.1.0'}, 'PRODUCT_METADATA': {'DATA_TYPE': 'L1TP', 'COLLECTION_CATEGORY': 'RT', 'ELEVATION_SOURCE': 'GLS2000', 'OUTPUT_FORMAT': 'GEOTIFF', 'SPACECRAFT_ID': 'LANDSAT_8', 'SENSOR_ID': 'OLI_TIRS', 'WRS_PATH': '226', 'WRS_ROW': '84', 'NADIR_OFFNADIR': 'NADIR', 'TARGET_WRS_PATH': '226', 'TARGET_WRS_ROW': '84', 'DATE_ACQUIRED': '2020-03-13', 'SCENE_CENTER_TIME': '13:50:41.0900869Z', 'CORNER_UL_LAT_PRODUCT': '-33.56016', 'CORNER_UL_LON_PRODUCT': '-61.57366', 'CORNER_UR_LAT_PRODUCT': '-33.50460', 'CORNER_UR_LON_PRODUCT': '-59.02733', 'CORNER_LL_LAT_PRODUCT': '-35.71026', 'CORNER_LL_LON_PRODUCT': '-61.53636', 'CORNER_LR_LAT_PRODUCT': '-35.65010', 'CORNER_LR_LON_PRODUCT': '-58.92374', 'CORNER_UL_PROJECTION_X_PRODUCT': '632400.000', 'CORNER_UL_PROJECTION_Y_PRODUCT': '-3714300.000', 'CORNER_UR_PROJECTION_X_PRODUCT': '869100.000', 'CORNER_UR_PROJECTION_Y_PRODUCT': '-3714300.000', 'CORNER_LL_PROJECTION_X_PRODUCT': '632400.000', 'CORNER_LL_PROJECTION_Y_PRODUCT': '-3952800.000', 'CORNER_LR_PROJECTION_X_PRODUCT': '869100.000', 'CORNER_LR_PROJECTION_Y_PRODUCT': '-3952800.000', 'PANCHROMATIC_LINES': '15901', 'PANCHROMATIC_SAMPLES': '15781', 'REFLECTIVE_LINES': '7951', 'REFLECTIVE_SAMPLES': '7891', 'THERMAL_LINES': '7951', 'THERMAL_SAMPLES': '7891', 'FILE_NAME_BAND_1': 'LC08_L1TP_226084_20200313_20200314_01_RT_B1.TIF', 'FILE_NAME_BAND_2': 'LC08_L1TP_226084_20200313_20200314_01_RT_B2.TIF', 'FILE_NAME_BAND_3': 'LC08_L1TP_226084_20200313_20200314_01_RT_B3.TIF', 'FILE_NAME_BAND_4': 'LC08_L1TP_226084_20200313_20200314_01_RT_B4.TIF', 'FILE_NAME_BAND_5': 'LC08_L1TP_226084_20200313_20200314_01_RT_B5.TIF', 'FILE_NAME_BAND_6': 'LC08_L1TP_226084_20200313_20200314_01_RT_B6.TIF', 'FILE_NAME_BAND_7': 'LC08_L1TP_226084_20200313_20200314_01_RT_B7.TIF', 'FILE_NAME_BAND_8': 'LC08_L1TP_226084_20200313_20200314_01_RT_B8.TIF', 'FILE_NAME_BAND_9': 'LC08_L1TP_226084_20200313_20200314_01_RT_B9.TIF', 'FILE_NAME_BAND_10': 'LC08_L1TP_226084_20200313_20200314_01_RT_B10.TIF', 'FILE_NAME_BAND_11': 'LC08_L1TP_226084_20200313_20200314_01_RT_B11.TIF', 'FILE_NAME_BAND_QUALITY': 'LC08_L1TP_226084_20200313_20200314_01_RT_BQA.TIF', 'ANGLE_COEFFICIENT_FILE_NAME': 'LC08_L1TP_226084_20200313_20200314_01_RT_ANG.txt', 'METADATA_FILE_NAME': 'LC08_L1TP_226084_20200313_20200314_01_RT_MTL.txt', 'CPF_NAME': 'LC08CPF_20200101_20200331_01.04', 'BPF_NAME_OLI': 'LO8BPF20200313122531_20200313131635.01', 'BPF_NAME_TIRS': 'LT8BPF20200310034739_20200310060739.01', 'RLUT_FILE_NAME': 'LC08RLUT_20150303_20431231_01_12.h5'}, 'IMAGE_ATTRIBUTES': {'CLOUD_COVER': '6.89', 'CLOUD_COVER_LAND': '6.89', 'IMAGE_QUALITY_OLI': '9', 'IMAGE_QUALITY_TIRS': '7', 'TIRS_SSM_MODEL': 'PRELIMINARY', 'TIRS_SSM_POSITION_STATUS': 'ESTIMATED', 'TIRS_STRAY_LIGHT_CORRECTION_SOURCE': 'TIRS', 'ROLL_ANGLE': '-0.001', 'SUN_AZIMUTH': '53.19896055', 'SUN_ELEVATION': '44.41644485', 'EARTH_SUN_DISTANCE': '0.9940604', 'SATURATION_BAND_1': 'Y', 'SATURATION_BAND_2': 'N', 'SATURATION_BAND_3': 'N', 'SATURATION_BAND_4': 'N', 'SATURATION_BAND_5': 'N', 'SATURATION_BAND_6': 'Y', 'SATURATION_BAND_7': 'Y', 'SATURATION_BAND_8': 'N', 'SATURATION_BAND_9': 'N', 'GROUND_CONTROL_POINTS_VERSION': '4', 'GROUND_CONTROL_POINTS_MODEL': '169', 'GEOMETRIC_RMSE_MODEL': '9.080', 'GEOMETRIC_RMSE_MODEL_Y': '6.743', 'GEOMETRIC_RMSE_MODEL_X': '6.081', 'GROUND_CONTROL_POINTS_VERIFY': '57', 'GEOMETRIC_RMSE_VERIFY': '5.073', 'TRUNCATION_OLI': 'UPPER'}, 'MIN_MAX_RADIANCE': {'RADIANCE_MAXIMUM_BAND_1': '769.17267', 'RADIANCE_MINIMUM_BAND_1': '-63.51853', 'RADIANCE_MAXIMUM_BAND_2': '787.64215', 'RADIANCE_MINIMUM_BAND_2': '-65.04375', 'RADIANCE_MAXIMUM_BAND_3': '725.80554', 'RADIANCE_MINIMUM_BAND_3': '-59.93726', 'RADIANCE_MAXIMUM_BAND_4': '612.04010', 'RADIANCE_MINIMUM_BAND_4': '-50.54247', 'RADIANCE_MAXIMUM_BAND_5': '374.53802', 'RADIANCE_MINIMUM_BAND_5': '-30.92947', 'RADIANCE_MAXIMUM_BAND_6': '93.14420', 'RADIANCE_MINIMUM_BAND_6': '-7.69188', 'RADIANCE_MAXIMUM_BAND_7': '31.39458', 'RADIANCE_MINIMUM_BAND_7': '-2.59257', 'RADIANCE_MAXIMUM_BAND_8': '692.66095', 'RADIANCE_MINIMUM_BAND_8': '-57.20017', 'RADIANCE_MAXIMUM_BAND_9': '146.37794', 'RADIANCE_MINIMUM_BAND_9': '-12.08794', 'RADIANCE_MAXIMUM_BAND_10': '22.00180', 'RADIANCE_MINIMUM_BAND_10': '0.10033', 'RADIANCE_MAXIMUM_BAND_11': '22.00180', 'RADIANCE_MINIMUM_BAND_11': '0.10033'}, 'MIN_MAX_REFLECTANCE': {'REFLECTANCE_MAXIMUM_BAND_1': '1.210700', 'REFLECTANCE_MINIMUM_BAND_1': '-0.099980', 'REFLECTANCE_MAXIMUM_BAND_2': '1.210700', 'REFLECTANCE_MINIMUM_BAND_2': '-0.099980', 'REFLECTANCE_MAXIMUM_BAND_3': '1.210700', 'REFLECTANCE_MINIMUM_BAND_3': '-0.099980', 'REFLECTANCE_MAXIMUM_BAND_4': '1.210700', 'REFLECTANCE_MINIMUM_BAND_4': '-0.099980', 'REFLECTANCE_MAXIMUM_BAND_5': '1.210700', 'REFLECTANCE_MINIMUM_BAND_5': '-0.099980', 'REFLECTANCE_MAXIMUM_BAND_6': '1.210700', 'REFLECTANCE_MINIMUM_BAND_6': '-0.099980', 'REFLECTANCE_MAXIMUM_BAND_7': '1.210700', 'REFLECTANCE_MINIMUM_BAND_7': '-0.099980', 'REFLECTANCE_MAXIMUM_BAND_8': '1.210700', 'REFLECTANCE_MINIMUM_BAND_8': '-0.099980', 'REFLECTANCE_MAXIMUM_BAND_9': '1.210700', 'REFLECTANCE_MINIMUM_BAND_9': '-0.099980'}, 'MIN_MAX_PIXEL_VALUE': {'QUANTIZE_CAL_MAX_BAND_1': '65535', 'QUANTIZE_CAL_MIN_BAND_1': '1', 'QUANTIZE_CAL_MAX_BAND_2': '65535', 'QUANTIZE_CAL_MIN_BAND_2': '1', 'QUANTIZE_CAL_MAX_BAND_3': '65535', 'QUANTIZE_CAL_MIN_BAND_3': '1', 'QUANTIZE_CAL_MAX_BAND_4': '65535', 'QUANTIZE_CAL_MIN_BAND_4': '1', 'QUANTIZE_CAL_MAX_BAND_5': '65535', 'QUANTIZE_CAL_MIN_BAND_5': '1', 'QUANTIZE_CAL_MAX_BAND_6': '65535', 'QUANTIZE_CAL_MIN_BAND_6': '1', 'QUANTIZE_CAL_MAX_BAND_7': '65535', 'QUANTIZE_CAL_MIN_BAND_7': '1', 'QUANTIZE_CAL_MAX_BAND_8': '65535', 'QUANTIZE_CAL_MIN_BAND_8': '1', 'QUANTIZE_CAL_MAX_BAND_9': '65535', 'QUANTIZE_CAL_MIN_BAND_9': '1', 'QUANTIZE_CAL_MAX_BAND_10': '65535', 'QUANTIZE_CAL_MIN_BAND_10': '1', 'QUANTIZE_CAL_MAX_BAND_11': '65535', 'QUANTIZE_CAL_MIN_BAND_11': '1'}, 'RADIOMETRIC_RESCALING': {'RADIANCE_MULT_BAND_1': '1.2706E-02', 'RADIANCE_MULT_BAND_2': '1.3011E-02', 'RADIANCE_MULT_BAND_3': '1.1990E-02', 'RADIANCE_MULT_BAND_4': '1.0111E-02', 'RADIANCE_MULT_BAND_5': '6.1871E-03', 'RADIANCE_MULT_BAND_6': '1.5387E-03', 'RADIANCE_MULT_BAND_7': '5.1862E-04', 'RADIANCE_MULT_BAND_8': '1.1442E-02', 'RADIANCE_MULT_BAND_9': '2.4181E-03', 'RADIANCE_MULT_BAND_10': '3.3420E-04', 'RADIANCE_MULT_BAND_11': '3.3420E-04', 'RADIANCE_ADD_BAND_1': '-63.53123', 'RADIANCE_ADD_BAND_2': '-65.05676', 'RADIANCE_ADD_BAND_3': '-59.94925', 'RADIANCE_ADD_BAND_4': '-50.55258', 'RADIANCE_ADD_BAND_5': '-30.93566', 'RADIANCE_ADD_BAND_6': '-7.69342', 'RADIANCE_ADD_BAND_7': '-2.59309', 'RADIANCE_ADD_BAND_8': '-57.21161', 'RADIANCE_ADD_BAND_9': '-12.09036', 'RADIANCE_ADD_BAND_10': '0.10000', 'RADIANCE_ADD_BAND_11': '0.10000', 'REFLECTANCE_MULT_BAND_1': '2.0000E-05', 'REFLECTANCE_MULT_BAND_2': '2.0000E-05', 'REFLECTANCE_MULT_BAND_3': '2.0000E-05', 'REFLECTANCE_MULT_BAND_4': '2.0000E-05', 'REFLECTANCE_MULT_BAND_5': '2.0000E-05', 'REFLECTANCE_MULT_BAND_6': '2.0000E-05', 'REFLECTANCE_MULT_BAND_7': '2.0000E-05', 'REFLECTANCE_MULT_BAND_8': '2.0000E-05', 'REFLECTANCE_MULT_BAND_9': '2.0000E-05', 'REFLECTANCE_ADD_BAND_1': '-0.100000', 'REFLECTANCE_ADD_BAND_2': '-0.100000', 'REFLECTANCE_ADD_BAND_3': '-0.100000', 'REFLECTANCE_ADD_BAND_4': '-0.100000', 'REFLECTANCE_ADD_BAND_5': '-0.100000', 'REFLECTANCE_ADD_BAND_6': '-0.100000', 'REFLECTANCE_ADD_BAND_7': '-0.100000', 'REFLECTANCE_ADD_BAND_8': '-0.100000', 'REFLECTANCE_ADD_BAND_9': '-0.100000'}, 'TIRS_THERMAL_CONSTANTS': {'K1_CONSTANT_BAND_10': '774.8853', 'K2_CONSTANT_BAND_10': '1321.0789', 'K1_CONSTANT_BAND_11': '480.8883', 'K2_CONSTANT_BAND_11': '1201.1442'}, 'PROJECTION_PARAMETERS': {'MAP_PROJECTION': 'UTM', 'DATUM': 'WGS84', 'ELLIPSOID': 'WGS84', 'UTM_ZONE': '20', 'GRID_CELL_SIZE_PANCHROMATIC': '15.00', 'GRID_CELL_SIZE_REFLECTIVE': '30.00', 'GRID_CELL_SIZE_THERMAL': '30.00', 'ORIENTATION': 'NORTH_UP', 'RESAMPLING_OPTION': 'CUBIC_CONVOLUTION'}}}\n"
     ]
    }
   ],
   "source": [
    "group1 = archi[0].split(' = ')[1] #Nombre del grupo principal\n",
    "diccionario = {group1:{}}\n",
    "for i in range(1, len(archi)-1):\n",
    "    params = archi[i].split(' = ')\n",
    "    if params[0]=='GROUP':\n",
    "        #Creamos el subgrupo\n",
    "        subgrupo = params[1]\n",
    "        diccionario[group1][subgrupo] = {}\n",
    "        #Almacenamos las variables del subgrupo\n",
    "        while params[0]!='END_GROUP':\n",
    "            i += 1\n",
    "            params = archi[i].split(' = ')\n",
    "            if params[0]!='END_GROUP': #Este no nos interesa\n",
    "                diccionario[group1][subgrupo][params[0]] = params[1].replace('\"','')\n",
    "\n",
    "print(diccionario)\n"
   ]
  },
  {
   "cell_type": "markdown",
   "metadata": {},
   "source": [
    "Veamos qué grupos se crearon consultando mediante el método _keys()_ de nuestro diccionario:"
   ]
  },
  {
   "cell_type": "code",
   "execution_count": 63,
   "metadata": {},
   "outputs": [
    {
     "name": "stdout",
     "output_type": "stream",
     "text": [
      "dict_keys(['METADATA_FILE_INFO', 'PRODUCT_METADATA', 'IMAGE_ATTRIBUTES', 'MIN_MAX_RADIANCE', 'MIN_MAX_REFLECTANCE', 'MIN_MAX_PIXEL_VALUE', 'RADIOMETRIC_RESCALING', 'TIRS_THERMAL_CONSTANTS', 'PROJECTION_PARAMETERS'])\n"
     ]
    }
   ],
   "source": [
    "print(diccionario['L1_METADATA_FILE'].keys())"
   ]
  },
  {
   "cell_type": "markdown",
   "metadata": {},
   "source": [
    "Podríamos extraer uno de los grupos que nos interese y convertirlo en una estructura Pandas Series:"
   ]
  },
  {
   "cell_type": "code",
   "execution_count": 66,
   "metadata": {},
   "outputs": [
    {
     "name": "stdout",
     "output_type": "stream",
     "text": [
      "\u001b[34m\n",
      "Subgrupo PROJECTION_PARAMETERS visto como diccionario:\u001b[0m\n",
      "{'MAP_PROJECTION': 'UTM', 'DATUM': 'WGS84', 'ELLIPSOID': 'WGS84', 'UTM_ZONE': '20', 'GRID_CELL_SIZE_PANCHROMATIC': '15.00', 'GRID_CELL_SIZE_REFLECTIVE': '30.00', 'GRID_CELL_SIZE_THERMAL': '30.00', 'ORIENTATION': 'NORTH_UP', 'RESAMPLING_OPTION': 'CUBIC_CONVOLUTION'}\n",
      "\u001b[34m\n",
      "Subgrupo PROJECTION_PARAMETERS visto como estructura Pandas Series:\u001b[0m\n",
      "MAP_PROJECTION                               UTM\n",
      "DATUM                                      WGS84\n",
      "ELLIPSOID                                  WGS84\n",
      "UTM_ZONE                                      20\n",
      "GRID_CELL_SIZE_PANCHROMATIC                15.00\n",
      "GRID_CELL_SIZE_REFLECTIVE                  30.00\n",
      "GRID_CELL_SIZE_THERMAL                     30.00\n",
      "ORIENTATION                             NORTH_UP\n",
      "RESAMPLING_OPTION              CUBIC_CONVOLUTION\n",
      "dtype: object\n"
     ]
    }
   ],
   "source": [
    "import pandas as pd\n",
    "print(colored('\\nSubgrupo PROJECTION_PARAMETERS visto como diccionario:', 'blue'))\n",
    "print(diccionario['L1_METADATA_FILE']['PROJECTION_PARAMETERS'])\n",
    "subgrupo = diccionario['L1_METADATA_FILE']['PROJECTION_PARAMETERS']\n",
    "prjParams = pd.Series(subgrupo)\n",
    "print(colored('\\nSubgrupo PROJECTION_PARAMETERS visto como estructura Pandas Series:', 'blue'))\n",
    "print(prjParams)"
   ]
  },
  {
   "cell_type": "markdown",
   "metadata": {},
   "source": [
    "## Funciones\n",
    "Las funciones en un lenguaje de programación, son partes de código que encapsulan un conjunto de instrucciones y facilitan su uso a lo largo de nuestro programa, ejemplo: "
   ]
  },
  {
   "cell_type": "code",
   "execution_count": 68,
   "metadata": {},
   "outputs": [
    {
     "name": "stdout",
     "output_type": "stream",
     "text": [
      "6\n"
     ]
    }
   ],
   "source": [
    "def suma(a, b):\n",
    "    res = a + b\n",
    "    return res\n",
    "\n",
    "print(suma(1, 5))\n"
   ]
  },
  {
   "cell_type": "markdown",
   "metadata": {},
   "source": [
    "En el caso anterior, realizamos una función que dados dos valores, retorna su suma. Esta función podría ser utilizada a lo largo de un programa siempre que se quieran sumar dos números. Claramente, para una operación tan sencilla no resulta adecuado generar una función, pero en casos como la lectura de un archivo como el que vimos anteriormente, podría resultar de utilidad. Tomemos el código que lee los metadatos de nuestra imagen Landsat 8 y lo convertimos en una función."
   ]
  },
  {
   "cell_type": "markdown",
   "metadata": {},
   "source": [
    "## Imágenes entendidas como array\n"
   ]
  },
  {
   "cell_type": "code",
   "execution_count": 14,
   "metadata": {},
   "outputs": [
    {
     "name": "stdout",
     "output_type": "stream",
     "text": [
      "\u001b[34m\n",
      "Las dimensiones de la imagen original son:\u001b[0m\n",
      "(350, 279)\n",
      "\u001b[34m\n",
      "Las dimensiones de la imagen original remuestreada con un factor de 20 son:\u001b[0m\n",
      "(17, 13)\n"
     ]
    }
   ],
   "source": [
    "from PIL import Image\n",
    "import PIL\n",
    "\n",
    "image = Image.open(\"images/homero2.jpg\")\n",
    "factor = 20\n",
    "image2 = image.resize((image.size[0]//factor, image.size[1]//factor), resample=PIL.Image.NEAREST)\n",
    "\n",
    "imageArr = np.array(image)\n",
    "image2Arr = np.array(image2)\n",
    "\n",
    "print(colored('\\nLas dimensiones de la imagen original son:', 'blue'))\n",
    "print(imageArr.shape)\n",
    "print(colored(f'\\nLas dimensiones de la imagen original remuestreada con un factor de {factor} son:', 'blue'))\n",
    "print(image2Arr.shape)\n"
   ]
  },
  {
   "cell_type": "markdown",
   "metadata": {},
   "source": [
    "Para conocer más acerca de la librería PIL y sus métodos de remuestreo consulte el siguiente [enlace](https://pillow.readthedocs.io/en/stable/reference/Image.html)"
   ]
  },
  {
   "cell_type": "markdown",
   "metadata": {},
   "source": [
    "## Resoluciones en una imagen\n",
    "\n",
    "\n",
    "\n",
    "### Resolución Espacial\n",
    "\n",
    "Representa el tamaño mínimo que discrimina un pixel en una imagen\n",
    "\n"
   ]
  },
  {
   "cell_type": "code",
   "execution_count": 36,
   "metadata": {},
   "outputs": [
    {
     "name": "stdout",
     "output_type": "stream",
     "text": [
      "[[ 10   9   7  11  14   4   0   3  51 140 179 172 159 161 169 168 168 167\n",
      "  170 165 166 172 177 178 169 143  98  59  37  13   5  16  11  56 147 172\n",
      "  164 168 172 170 168 171 171 165 167 167 167 167 167 167 167 167 167 167\n",
      "  167 167 167 167 167 167 167 167 167 167 167 167 167 167 167 167 167 167\n",
      "  167 167 167 167 167 167 167 167]\n",
      " [  0   6   6  13   5   4  13   7   0  29  97 162 169 159 161 160 171 164\n",
      "  168 166 165 165 161 158 164 171 169 160 119  53  13   9   8  13  66 145\n",
      "  177 164 164 169 165 169 174 169 167 167 167 167 167 167 167 167 167 167\n",
      "  167 167 167 167 167 167 167 167 167 167 167 167 167 167 167 167 167 167\n",
      "  167 167 167 167 167 167 167 167]\n",
      " [  9  48 115 133 107  72  34  12  14  18  22  38 136 161 177 166 166 164\n",
      "  171 175 167 171 173 169 164 164 169 174 173 178 124  40  11  12   9  25\n",
      "  125 160 172 162 164 171 170 171 167 167 167 167 167 167 167 167 167 167\n",
      "  167 167 167 167 167 167 167 167 167 167 167 167 167 167 167 167 167 167\n",
      "  167 167 167 167 167 167 167 167]\n",
      " [ 86 157 165 175 178 171 133  62  19   0   1  20  35  91 146 171 167 167\n",
      "  163 163 162 161 165 171 173 169 165 164 158 181 167 140  86  23  13  20\n",
      "   38 102 159 173 170 170 170 166 167 167 167 167 167 167 167 167 167 167\n",
      "  167 167 167 167 167 167 167 167 167 167 167 167 167 167 167 167 167 167\n",
      "  167 167 167 167 167 167 167 167]\n",
      " [166 176 165 172 165 163 173 166 147  93  36   5   8  19  64 142 156 174\n",
      "  168 166 174 171 166 163 160 161 169 177 178 165 170 177 179 127  39  12\n",
      "    7  20  88 164 178 162 162 171 167 167 167 167 167 167 167 167 167 167\n",
      "  167 167 167 167 167 167 167 167 167 167 167 167 167 167 167 167 167 167\n",
      "  167 167 167 167 167 167 167 167]\n",
      " [173 170 165 162 165 162 171 164 174 167 117  47  10   6  13  52  54 140\n",
      "  173 161 167 168 170 170 170 168 163 160 166 163 170 171 165 174 135  37\n",
      "   11   4  29 100 163 173 162 166 167 167 167 167 167 167 167 167 167 167\n",
      "  167 167 167 167 167 167 167 167 167 167 167 167 167 167 167 167 167 167\n",
      "  167 167 167 167 167 167 167 167]\n",
      " [170 167 168 166 168 170 168 164 163 167 167 164  85  28  19   7  11  29\n",
      "  120 173 169 166 164 166 169 171 169 167 166 167 172 170 163 164 164 157\n",
      "   53  19   9  25  94 166 174 171 166 169 170 168 166 166 170 174 167 167\n",
      "  167 167 166 166 165 165 168 168 168 168 167 167 167 167 168 167 167 167\n",
      "  167 166 166 166 167 167 167 167]\n",
      " [163 167 174 180 169 174 175 170 167 167 166 163 161 108  15  20   0  14\n",
      "   37 135 169 171 173 172 171 169 168 168 166 165 166 167 168 171 172 168\n",
      "  136  36   7   0  20 117 173 170 169 166 166 170 171 169 166 166 168 168\n",
      "  168 168 167 167 167 166 169 168 168 168 168 167 167 167 168 168 168 167\n",
      "  167 167 167 167 167 167 167 167]\n",
      " [172 164 161 161 160 165 168 165 163 164 164 164 167 170  98  23  19  12\n",
      "   11  47 155 160 164 161 153 147 146 147 147 141 135 137 146 152 156 160\n",
      "  170 135  24  15  16  41 159 169 166 161 160 166 171 172 169 168 168 168\n",
      "  168 168 169 169 169 169 169 169 169 168 168 168 168 168 168 168 168 168\n",
      "  168 168 168 169 167 167 167 167]\n",
      " [164 166 171 171 169 167 165 165 168 173 176 177 170 154 149  72  80   6\n",
      "   16  20  53  56  57  51  41  34  31  32  35  31  24  24  33  35  36  44\n",
      "   60  73  57   0   4  23  55 172 171 175 176 171 164 163 166 171 167 167\n",
      "  168 168 169 170 170 171 169 169 169 168 168 168 168 168 168 168 168 169\n",
      "  169 169 169 170 167 167 167 167]]\n"
     ]
    },
    {
     "data": {
      "image/png": "[encoded data removed]",
      "text/plain": [
       "<Figure size 432x288 with 2 Axes>"
      ]
     },
     "metadata": {
      "needs_background": "light"
     },
     "output_type": "display_data"
    }
   ],
   "source": [
    "import matplotlib.pyplot as plt\n",
    "\n",
    "fig, ax = plt.subplots(nrows=1, ncols=2)\n",
    "ax[0].imshow(imageArr, cmap='Greys_r')\n",
    "ax[0].set_title('Original')\n",
    "ax[1].imshow(image2Arr, cmap='Greys_r')\n",
    "ax[1].set_title(f'Remuestreada factor {factor}')\n",
    "plt.show()"
   ]
  },
  {
   "cell_type": "markdown",
   "metadata": {},
   "source": [
    "### Resolución Radiométrica\n",
    "\n",
    "Indica la capacidad de discriminar variaciones en los tonos de una imagen. Viene expresado en el número de bits que se necesitan para almacenar un píxel, así una imagen de 8 bits tiene 2^8 = 256 niveles de grises que puede discriminar"
   ]
  },
  {
   "cell_type": "code",
   "execution_count": 32,
   "metadata": {},
   "outputs": [
    {
     "name": "stdout",
     "output_type": "stream",
     "text": [
      "[[0 0 0 0 0 0 0 0 0 1 1 1 1 1 1 1 1 1 1 1 1 1 1 1 1 1 0 0 0 0]\n",
      " [0 0 0 0 0 0 0 0 0 0 0 1 1 1 1 1 1 1 1 1 1 1 1 1 1 1 1 1 0 0]\n",
      " [0 0 0 1 0 0 0 0 0 0 0 0 1 1 1 1 1 1 1 1 1 1 1 1 1 1 1 1 1 1]\n",
      " [0 1 1 1 1 1 1 0 0 0 0 0 0 0 1 1 1 1 1 1 1 1 1 1 1 1 1 1 1 1]\n",
      " [1 1 1 1 1 1 1 1 1 0 0 0 0 0 0 1 1 1 1 1 1 1 1 1 1 1 1 1 1 1]\n",
      " [1 1 1 1 1 1 1 1 1 1 0 0 0 0 0 0 0 1 1 1 1 1 1 1 1 1 1 1 1 1]\n",
      " [1 1 1 1 1 1 1 1 1 1 1 1 0 0 0 0 0 0 0 1 1 1 1 1 1 1 1 1 1 1]\n",
      " [1 1 1 1 1 1 1 1 1 1 1 1 1 0 0 0 0 0 0 1 1 1 1 1 1 1 1 1 1 1]\n",
      " [1 1 1 1 1 1 1 1 1 1 1 1 1 1 0 0 0 0 0 0 1 1 1 1 1 1 1 1 1 1]\n",
      " [1 1 1 1 1 1 1 1 1 1 1 1 1 1 1 0 0 0 0 0 0 0 0 0 0 0 0 0 0 0]\n",
      " [1 1 1 1 1 1 1 1 1 1 0 0 0 0 0 0 0 0 0 0 0 0 0 0 0 0 0 0 0 0]\n",
      " [1 1 1 1 1 0 0 0 0 0 0 0 0 0 0 0 0 0 0 0 0 0 0 0 0 0 0 0 0 0]\n",
      " [1 1 1 1 1 0 0 0 0 0 0 0 0 0 0 0 0 0 0 0 0 0 0 0 0 0 0 0 0 0]\n",
      " [1 1 0 0 0 0 0 0 0 0 0 0 0 0 0 0 0 0 0 0 0 0 0 0 0 0 1 1 1 1]\n",
      " [0 0 0 0 0 0 0 0 0 0 0 0 0 0 0 0 1 1 1 1 1 1 1 1 1 1 1 1 1 1]\n",
      " [0 0 0 0 0 0 0 0 0 0 1 1 1 1 1 1 1 1 1 1 1 1 1 1 1 1 1 1 1 1]\n",
      " [0 0 0 0 0 1 1 1 1 1 1 1 1 1 1 1 1 1 1 1 1 1 1 1 1 1 1 1 1 1]\n",
      " [0 1 1 1 1 1 1 1 1 1 1 1 1 1 1 1 1 1 1 1 1 1 1 1 1 1 1 1 1 1]\n",
      " [1 1 1 1 1 1 1 1 1 1 1 1 1 1 1 1 1 1 1 1 1 1 1 1 1 1 1 1 1 1]\n",
      " [1 1 1 1 1 1 1 1 1 1 1 1 1 1 1 1 1 1 1 1 1 1 1 1 1 1 1 1 1 1]\n",
      " [1 1 1 1 1 1 1 1 1 1 1 1 1 1 1 1 1 1 1 1 1 1 1 1 1 1 1 1 1 1]\n",
      " [1 1 1 1 1 1 1 1 1 1 1 1 1 1 1 1 1 1 1 1 1 1 1 1 1 1 1 1 1 1]\n",
      " [1 1 1 1 1 1 1 1 1 1 1 1 1 1 1 1 1 1 1 1 1 1 1 1 1 1 1 1 1 1]\n",
      " [1 1 1 1 1 1 1 1 1 1 1 1 1 1 1 1 1 1 1 1 1 1 1 1 1 1 1 1 1 1]\n",
      " [1 1 1 1 1 1 1 1 1 1 1 1 1 1 1 1 1 1 1 1 1 1 1 1 1 1 1 1 1 1]\n",
      " [1 1 1 1 1 1 1 1 1 1 1 1 1 1 1 1 1 1 1 1 1 1 1 1 1 1 1 1 1 1]\n",
      " [1 1 1 1 1 1 1 1 1 1 1 1 1 1 1 1 1 1 1 1 1 1 1 1 1 1 1 1 1 1]\n",
      " [1 1 1 1 1 1 1 1 1 1 1 1 1 1 1 1 1 1 1 1 1 1 1 1 1 1 1 1 1 1]\n",
      " [1 1 1 1 1 1 1 1 1 1 1 1 1 1 1 1 1 1 1 1 1 1 1 1 1 1 1 1 1 1]\n",
      " [1 1 1 1 1 1 1 1 1 1 1 1 1 1 1 1 1 1 1 1 1 1 1 1 1 1 1 1 1 1]]\n"
     ]
    },
    {
     "data": {
      "image/png": "[encoded data removed]",
      "text/plain": [
       "<Figure size 432x288 with 2 Axes>"
      ]
     },
     "metadata": {
      "needs_background": "light"
     },
     "output_type": "display_data"
    }
   ],
   "source": [
    "#image3 = image.convert('L')\n",
    "image3Arr = np.array(image)\n",
    "image3Arr[image3Arr<128] = 0\n",
    "image3Arr[image3Arr>=128] = 1\n",
    "print(image3Arr[10:40, 100:130])\n",
    "\n",
    "fig, ax = plt.subplots(nrows=1, ncols=2)\n",
    "ax[0].imshow(imageArr, cmap='Greys_r')\n",
    "ax[0].set_title('Original')\n",
    "ax[1].imshow(image3Arr, cmap='Greys_r')\n",
    "ax[1].set_title('Imagen en escala de grises')\n",
    "plt.show()\n",
    "\n",
    "\n"
   ]
  },
  {
   "cell_type": "code",
   "execution_count": 13,
   "metadata": {},
   "outputs": [
    {
     "name": "stdout",
     "output_type": "stream",
     "text": [
      "[[    0     1     2 ... 65533 65534 65535]\n",
      " [    0     1     2 ... 65533 65534 65535]\n",
      " [    0     1     2 ... 65533 65534 65535]\n",
      " ...\n",
      " [    0     1     2 ... 65533 65534 65535]\n",
      " [    0     1     2 ... 65533 65534 65535]\n",
      " [    0     1     2 ... 65533 65534 65535]]\n",
      "[[  0   0   0 ... 255 255 255]\n",
      " [  0   0   0 ... 255 255 255]\n",
      " [  0   0   0 ... 255 255 255]\n",
      " ...\n",
      " [  0   0   0 ... 255 255 255]\n",
      " [  0   0   0 ... 255 255 255]\n",
      " [  0   0   0 ... 255 255 255]]\n",
      "[[ 0  0  0 ... 15 15 15]\n",
      " [ 0  0  0 ... 15 15 15]\n",
      " [ 0  0  0 ... 15 15 15]\n",
      " ...\n",
      " [ 0  0  0 ... 15 15 15]\n",
      " [ 0  0  0 ... 15 15 15]\n",
      " [ 0  0  0 ... 15 15 15]]\n",
      "[[False False False ...  True  True  True]\n",
      " [False False False ...  True  True  True]\n",
      " [False False False ...  True  True  True]\n",
      " ...\n",
      " [False False False ...  True  True  True]\n",
      " [False False False ...  True  True  True]\n",
      " [False False False ...  True  True  True]]\n"
     ]
    }
   ],
   "source": [
    "ancho = 2000\n",
    "valores = 2**16\n",
    "b16 = np.arange(valores)\n",
    "b8 = b16//256\n",
    "b4 = b8//16\n",
    "b2 = np.round(b8/256).astype(int)\n",
    "\n",
    "\n",
    "a = np.zeros((ancho,valores), dtype=np.uint16)\n",
    "b = np.zeros((ancho,valores), dtype=np.uint8)\n",
    "c = np.zeros((ancho,valores), dtype=np.uint8)\n",
    "d = np.zeros((ancho,valores), dtype=np.bool)\n",
    "\n",
    "\n",
    "for i in range(ancho):\n",
    "    a[i,:] = b16\n",
    "    b[i,:] = b8\n",
    "    c[i,:] = b4\n",
    "    d[i,:] = b2\n",
    "\n",
    "print(a)\n",
    "print(b)\n",
    "print(c)\n",
    "print(d)"
   ]
  },
  {
   "cell_type": "code",
   "execution_count": 14,
   "metadata": {},
   "outputs": [
    {
     "data": {
      "image/png": "[encoded data removed]",
      "text/plain": [
       "<Figure size 1080x576 with 4 Axes>"
      ]
     },
     "metadata": {
      "needs_background": "light"
     },
     "output_type": "display_data"
    }
   ],
   "source": [
    "import matplotlib.pyplot as plt\n",
    "\n",
    "fig, ax = plt.subplots(nrows=4, ncols=1,figsize=(15,8))\n",
    "ax[0].imshow(a, cmap='Greys_r')\n",
    "ax[0].set_title('Representacion en 16 bits')\n",
    "ax[1].imshow(b, cmap='Greys_r')\n",
    "ax[1].set_title('Representacion en 8 bits')\n",
    "ax[2].imshow(c, cmap='Greys_r')\n",
    "ax[2].set_title('Representacion en 4 bits')\n",
    "ax[3].imshow(d, cmap='Greys_r')\n",
    "ax[3].set_title('Representacion en 2 bits')\n",
    "plt.show()\n"
   ]
  }
 ],
 "metadata": {
  "kernelspec": {
   "display_name": "Python 3",
   "language": "python",
   "name": "python3"
  },
  "language_info": {
   "codemirror_mode": {
    "name": "ipython",
    "version": 3
   },
   "file_extension": ".py",
   "mimetype": "text/x-python",
   "name": "python",
   "nbconvert_exporter": "python",
   "pygments_lexer": "ipython3",
   "version": "3.6.9"
  }
 },
 "nbformat": 4,
 "nbformat_minor": 4
}
